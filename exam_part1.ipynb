{
 "cells": [
  {
   "cell_type": "markdown",
   "metadata": {},
   "source": [
    "<h1><center>«Portfolio-Exam Part I» </center></h1>\n",
    "<h2><center>MADS-SMA </center></h2>\n",
    "<h3><center>Author: Tom Wüsten </center></h3>\n",
    "\n",
    "### Introduction\n",
    "This paper deals about the evaluation from different approaches of sentiment analysis. The basis for this is a dataset of restaurant reviews from the yelp platform. The reviews are in English and rate restaurants in Hamburg. The rating is done by stars from 1-5, where 5 stars is the best rating. At the beginning, information about the data set will be gathered in the data exploration, which will be used for the pre-processing of the data. Based on this a Sentiment analysis will compare classic approaches like Bag of Words with newer approaches like Transformer. Furthermore, it will be discussed which methods can be used to train Transformer from the platform Huggingface on own data."
   ]
  },
  {
   "cell_type": "code",
   "execution_count": 49,
   "metadata": {},
   "outputs": [],
   "source": [
    "# Load libaries\n",
    "import pandas as pd\n",
    "import numpy as np\n",
    "from transformers import pipeline\n",
    "from langdetect import detect\n",
    "import matplotlib.pyplot as plt\n",
    "from sklearn.metrics import confusion_matrix, ConfusionMatrixDisplay, accuracy_score\n",
    "from sklearn.model_selection import train_test_split\n",
    "from datasets import load_dataset\n",
    "from transformers import AutoTokenizer, AutoModelForSequenceClassification\n",
    "from datasets import load_metric\n",
    "from transformers import TrainingArguments, Trainer\n",
    "import warnings\n",
    "from sklearn.naive_bayes import GaussianNB\n",
    "from sklearn.linear_model import LinearRegression\n",
    "from sklearn.ensemble import RandomForestClassifier\n",
    "from sklearn.feature_extraction.text import CountVectorizer, TfidfVectorizer\n",
    "from helper.normalize_documents import normalize_document\n",
    "\n",
    "warnings.filterwarnings(\"ignore\")"
   ]
  },
  {
   "cell_type": "markdown",
   "metadata": {},
   "source": [
    "The provided dataset of yelp has the url, stars of the rating, text-based rating and the date of the raing as columns."
   ]
  },
  {
   "cell_type": "code",
   "execution_count": 50,
   "metadata": {},
   "outputs": [
    {
     "data": {
      "text/html": [
       "<div>\n",
       "<style scoped>\n",
       "    .dataframe tbody tr th:only-of-type {\n",
       "        vertical-align: middle;\n",
       "    }\n",
       "\n",
       "    .dataframe tbody tr th {\n",
       "        vertical-align: top;\n",
       "    }\n",
       "\n",
       "    .dataframe thead th {\n",
       "        text-align: right;\n",
       "    }\n",
       "</style>\n",
       "<table border=\"1\" class=\"dataframe\">\n",
       "  <thead>\n",
       "    <tr style=\"text-align: right;\">\n",
       "      <th></th>\n",
       "      <th>url</th>\n",
       "      <th>stars</th>\n",
       "      <th>text</th>\n",
       "      <th>date</th>\n",
       "    </tr>\n",
       "  </thead>\n",
       "  <tbody>\n",
       "    <tr>\n",
       "      <th>0</th>\n",
       "      <td>https://www.yelp.com/biz/il-buco-hamburg</td>\n",
       "      <td>5.0</td>\n",
       "      <td>Fantastic little restaurant!Great staff and fo...</td>\n",
       "      <td>2017-08-12</td>\n",
       "    </tr>\n",
       "    <tr>\n",
       "      <th>1</th>\n",
       "      <td>https://www.yelp.com/biz/campus-suite-hamburg-7</td>\n",
       "      <td>4.0</td>\n",
       "      <td>We went there to grab some breakfast. They are...</td>\n",
       "      <td>2015-09-29</td>\n",
       "    </tr>\n",
       "    <tr>\n",
       "      <th>2</th>\n",
       "      <td>https://www.yelp.com/biz/campus-suite-hamburg-7</td>\n",
       "      <td>4.0</td>\n",
       "      <td>Good coffee,  sandwiches,  and yogurts close t...</td>\n",
       "      <td>2016-01-13</td>\n",
       "    </tr>\n",
       "    <tr>\n",
       "      <th>3</th>\n",
       "      <td>https://www.yelp.com/biz/campus-suite-hamburg-7</td>\n",
       "      <td>3.0</td>\n",
       "      <td>When XING handed out coupons for free coffee d...</td>\n",
       "      <td>2008-04-24</td>\n",
       "    </tr>\n",
       "    <tr>\n",
       "      <th>4</th>\n",
       "      <td>https://www.yelp.com/biz/campus-suite-hamburg-7</td>\n",
       "      <td>4.0</td>\n",
       "      <td>I love Campus Suite franchise. after the Balza...</td>\n",
       "      <td>2010-01-15</td>\n",
       "    </tr>\n",
       "  </tbody>\n",
       "</table>\n",
       "</div>"
      ],
      "text/plain": [
       "                                               url  stars  \\\n",
       "0         https://www.yelp.com/biz/il-buco-hamburg    5.0   \n",
       "1  https://www.yelp.com/biz/campus-suite-hamburg-7    4.0   \n",
       "2  https://www.yelp.com/biz/campus-suite-hamburg-7    4.0   \n",
       "3  https://www.yelp.com/biz/campus-suite-hamburg-7    3.0   \n",
       "4  https://www.yelp.com/biz/campus-suite-hamburg-7    4.0   \n",
       "\n",
       "                                                text        date  \n",
       "0  Fantastic little restaurant!Great staff and fo...  2017-08-12  \n",
       "1  We went there to grab some breakfast. They are...  2015-09-29  \n",
       "2  Good coffee,  sandwiches,  and yogurts close t...  2016-01-13  \n",
       "3  When XING handed out coupons for free coffee d...  2008-04-24  \n",
       "4  I love Campus Suite franchise. after the Balza...  2010-01-15  "
      ]
     },
     "execution_count": 50,
     "metadata": {},
     "output_type": "execute_result"
    }
   ],
   "source": [
    "yelp_reviews = pd.read_csv(\"data/yelp_reviews_hamburg_en.csv\")\n",
    "yelp_reviews.head()"
   ]
  },
  {
   "cell_type": "code",
   "execution_count": 51,
   "metadata": {},
   "outputs": [
    {
     "name": "stdout",
     "output_type": "stream",
     "text": [
      "<class 'pandas.core.frame.DataFrame'>\n",
      "RangeIndex: 3025 entries, 0 to 3024\n",
      "Data columns (total 4 columns):\n",
      " #   Column  Non-Null Count  Dtype  \n",
      "---  ------  --------------  -----  \n",
      " 0   url     3025 non-null   object \n",
      " 1   stars   3025 non-null   float64\n",
      " 2   text    3025 non-null   object \n",
      " 3   date    3025 non-null   object \n",
      "dtypes: float64(1), object(3)\n",
      "memory usage: 94.7+ KB\n"
     ]
    }
   ],
   "source": [
    "yelp_reviews.info()"
   ]
  },
  {
   "cell_type": "code",
   "execution_count": 52,
   "metadata": {},
   "outputs": [
    {
     "data": {
      "text/html": [
       "<div>\n",
       "<style scoped>\n",
       "    .dataframe tbody tr th:only-of-type {\n",
       "        vertical-align: middle;\n",
       "    }\n",
       "\n",
       "    .dataframe tbody tr th {\n",
       "        vertical-align: top;\n",
       "    }\n",
       "\n",
       "    .dataframe thead th {\n",
       "        text-align: right;\n",
       "    }\n",
       "</style>\n",
       "<table border=\"1\" class=\"dataframe\">\n",
       "  <thead>\n",
       "    <tr style=\"text-align: right;\">\n",
       "      <th></th>\n",
       "      <th>stars</th>\n",
       "    </tr>\n",
       "  </thead>\n",
       "  <tbody>\n",
       "    <tr>\n",
       "      <th>count</th>\n",
       "      <td>3025.000000</td>\n",
       "    </tr>\n",
       "    <tr>\n",
       "      <th>mean</th>\n",
       "      <td>4.076033</td>\n",
       "    </tr>\n",
       "    <tr>\n",
       "      <th>std</th>\n",
       "      <td>1.094798</td>\n",
       "    </tr>\n",
       "    <tr>\n",
       "      <th>min</th>\n",
       "      <td>1.000000</td>\n",
       "    </tr>\n",
       "    <tr>\n",
       "      <th>25%</th>\n",
       "      <td>4.000000</td>\n",
       "    </tr>\n",
       "    <tr>\n",
       "      <th>50%</th>\n",
       "      <td>4.000000</td>\n",
       "    </tr>\n",
       "    <tr>\n",
       "      <th>75%</th>\n",
       "      <td>5.000000</td>\n",
       "    </tr>\n",
       "    <tr>\n",
       "      <th>max</th>\n",
       "      <td>5.000000</td>\n",
       "    </tr>\n",
       "  </tbody>\n",
       "</table>\n",
       "</div>"
      ],
      "text/plain": [
       "             stars\n",
       "count  3025.000000\n",
       "mean      4.076033\n",
       "std       1.094798\n",
       "min       1.000000\n",
       "25%       4.000000\n",
       "50%       4.000000\n",
       "75%       5.000000\n",
       "max       5.000000"
      ]
     },
     "execution_count": 52,
     "metadata": {},
     "output_type": "execute_result"
    }
   ],
   "source": [
    "yelp_reviews.describe()"
   ]
  },
  {
   "cell_type": "code",
   "execution_count": 53,
   "metadata": {},
   "outputs": [
    {
     "data": {
      "text/plain": [
       "(3025, 4)"
      ]
     },
     "execution_count": 53,
     "metadata": {},
     "output_type": "execute_result"
    }
   ],
   "source": [
    "yelp_reviews.shape"
   ]
  },
  {
   "cell_type": "markdown",
   "metadata": {},
   "source": [
    "To check the data, duplicates are filtered and missing values are checked. The result shows that there are no duplicates and no missing values in the dataset."
   ]
  },
  {
   "cell_type": "code",
   "execution_count": 54,
   "metadata": {},
   "outputs": [
    {
     "name": "stdout",
     "output_type": "stream",
     "text": [
      "The dataset has 0 duplicates and has 0 nan values.\n"
     ]
    }
   ],
   "source": [
    "# Checking duplicates rows\n",
    "duplicateRows = yelp_reviews[yelp_reviews.duplicated()]\n",
    "# CHecking na values\n",
    "na_values = yelp_reviews.isnull().sum().sum()\n",
    "print(f\"The dataset has {duplicateRows.shape[0]} duplicates and has {na_values} nan values.\")"
   ]
  },
  {
   "cell_type": "markdown",
   "metadata": {},
   "source": [
    "### Data Exploration\n",
    "In the data analysis we want to get a picture of how the data is distributed. For this purpose, we want to look at the structure of the ratings and give an overview of the period in which the comments were created. <br>\n",
    "Based on the first graph, we can see that the ratings of the restaurants are often good. The most votes have received 5 & 4 stars. It is remarkable that there are few bad ratings. <br>\n",
    "In the second plot, we examine the text length of the comments. Most of the comments are in the range between 100 words."
   ]
  },
  {
   "cell_type": "code",
   "execution_count": 55,
   "metadata": {},
   "outputs": [
    {
     "data": {
      "image/png": "[encoded data removed]",
      "text/plain": [
       "<Figure size 432x288 with 2 Axes>"
      ]
     },
     "metadata": {
      "needs_background": "light"
     },
     "output_type": "display_data"
    }
   ],
   "source": [
    "yelp_reviews_ratings = yelp_reviews.groupby(\"stars\").agg(\"count\").reset_index()\n",
    "fig, ax = plt.subplots(1, 2)\n",
    "plt.subplots_adjust(left=None, bottom=None, right=1.8, top=1.5, wspace=0.5, hspace=None)\n",
    "fig.suptitle(\n",
    "    \"Fig. 1 Distribution of ratings and text length\",\n",
    "    horizontalalignment=\"left\",\n",
    "    y=fig.subplotpars.right - 00.1,\n",
    "    fontsize=18,\n",
    ")\n",
    "ax[0].bar(yelp_reviews_ratings.stars, yelp_reviews_ratings.url, color=\"r\")\n",
    "# Bar Plot\n",
    "ax[0].set_ylabel(\"Amount of votess\")\n",
    "ax[0].set_xlabel(\"Ratings\")\n",
    "ax[0].set_title(\"Distribution of ratings\")\n",
    "# 2. Plot\n",
    "yelp_reviews[\"amount_text\"] = yelp_reviews[\"text\"].apply(lambda x: sum(word in x for word in x))\n",
    "\n",
    "ax[1].hist(yelp_reviews[\"amount_text\"], bins=100, color=\"r\")\n",
    "# Bar Plot\n",
    "ax[1].set_ylabel(\"Amount of text\")\n",
    "ax[1].set_xlabel(\"Count\")\n",
    "ax[1].set_title(\"Distribution of text length\")\n",
    "# Save figure\n",
    "plt.savefig(\"output/distribution_text_rating\", bbox_inches=\"tight\")\n",
    "# Show Plot\n",
    "\n",
    "plt.show()"
   ]
  },
  {
   "cell_type": "markdown",
   "metadata": {},
   "source": [
    "The plot below examines when comments have been written. The dataset includes ratings from 2006 to 2022, with the majority of ratings from 2015 & 2016. Furthermore, it can be seen that the months do not have a large influence on the visits. There is only a drop in ratings in November and December."
   ]
  },
  {
   "cell_type": "code",
   "execution_count": 56,
   "metadata": {},
   "outputs": [
    {
     "data": {
      "image/png": "[encoded data removed]",
      "text/plain": [
       "<Figure size 432x288 with 2 Axes>"
      ]
     },
     "metadata": {
      "needs_background": "light"
     },
     "output_type": "display_data"
    }
   ],
   "source": [
    "yelp_reviews[\"date\"] = pd.to_datetime(yelp_reviews[\"date\"])\n",
    "yelp_reviews[\"year\"] = yelp_reviews[\"date\"].dt.year\n",
    "yelp_reviews[\"month\"] = yelp_reviews[\"date\"].dt.strftime(\"%b\")\n",
    "yelp_reviews[\"weekday\"] = yelp_reviews[\"date\"].dt.strftime(\"%a\")\n",
    "year = yelp_reviews.groupby(\"year\", as_index=False).agg(Count_stars=(\"stars\", \"count\"))\n",
    "fig, ax = plt.subplots(1, 2)\n",
    "plt.subplots_adjust(left=None, bottom=None, right=1.8, top=1.5, wspace=0.5, hspace=None)\n",
    "fig.suptitle(\n",
    "    \"Fig. 2 Distribution of ratings per year and months\",\n",
    "    horizontalalignment=\"left\",\n",
    "    y=fig.subplotpars.right - 00.1,\n",
    "    fontsize=18,\n",
    ")\n",
    "ax[0].bar(year[\"year\"], year[\"Count_stars\"], color=\"r\")\n",
    "# Bar Plot\n",
    "ax[0].set_ylabel(\"Count Ratings\")\n",
    "ax[0].set_xlabel(\"year\")\n",
    "ax[0].set_title(\"Distribution of ratings per year\")\n",
    "# 2. Plot\n",
    "month = yelp_reviews.groupby([yelp_reviews[\"date\"].dt.strftime(\"%m\"), \"month\"], as_index=False).agg(\n",
    "    Count_stars=(\"stars\", \"count\")\n",
    ")\n",
    "ax[1].bar(month[\"month\"], month[\"Count_stars\"], color=\"r\")\n",
    "# Bar Plot\n",
    "ax[1].set_ylabel(\"Count Ratings\")\n",
    "ax[1].set_xlabel(\"month\")\n",
    "ax[1].set_title(\"Distribution of ratings per month\")\n",
    "# Save figure\n",
    "plt.savefig(\"output/distribution_rating_year_month\", bbox_inches=\"tight\")\n",
    "# Show Plot\n",
    "plt.show()"
   ]
  },
  {
   "cell_type": "markdown",
   "metadata": {},
   "source": [
    "## Pre-Processing\n",
    "At the preprocessing we want to get grid of useless data and want to check our data and bring oit also in a better form for our models. <br>\n",
    "The first step is to check the language. As a starting point, the data set from yelp was taken, which contains English restaurant reviews. To achieve better results in our ratings, it is important that the language is the same. It turns out that 85 comments are not written in English. Most of the 85 comments are in English. In the further course, it will be shown which other languages are also present in the comments."
   ]
  },
  {
   "cell_type": "code",
   "execution_count": 57,
   "metadata": {},
   "outputs": [
    {
     "data": {
      "text/html": [
       "<div>\n",
       "<style scoped>\n",
       "    .dataframe tbody tr th:only-of-type {\n",
       "        vertical-align: middle;\n",
       "    }\n",
       "\n",
       "    .dataframe tbody tr th {\n",
       "        vertical-align: top;\n",
       "    }\n",
       "\n",
       "    .dataframe thead th {\n",
       "        text-align: right;\n",
       "    }\n",
       "</style>\n",
       "<table border=\"1\" class=\"dataframe\">\n",
       "  <thead>\n",
       "    <tr style=\"text-align: right;\">\n",
       "      <th></th>\n",
       "      <th>url</th>\n",
       "      <th>stars</th>\n",
       "      <th>text</th>\n",
       "      <th>date</th>\n",
       "      <th>amount_text</th>\n",
       "      <th>year</th>\n",
       "      <th>month</th>\n",
       "      <th>weekday</th>\n",
       "      <th>language</th>\n",
       "    </tr>\n",
       "  </thead>\n",
       "  <tbody>\n",
       "    <tr>\n",
       "      <th>44</th>\n",
       "      <td>https://www.yelp.com/biz/cafe-strauss-hamburg</td>\n",
       "      <td>5.0</td>\n",
       "      <td>Wir waren erneut zum Frühstück unter der Woche...</td>\n",
       "      <td>2013-08-27</td>\n",
       "      <td>167</td>\n",
       "      <td>2013</td>\n",
       "      <td>Aug</td>\n",
       "      <td>Tue</td>\n",
       "      <td>de</td>\n",
       "    </tr>\n",
       "    <tr>\n",
       "      <th>65</th>\n",
       "      <td>https://www.yelp.com/biz/kumpir-hamburg-6</td>\n",
       "      <td>5.0</td>\n",
       "      <td>Gaaaanz lecker und preiswert!!!! Ich stimme zu...</td>\n",
       "      <td>2011-08-24</td>\n",
       "      <td>161</td>\n",
       "      <td>2011</td>\n",
       "      <td>Aug</td>\n",
       "      <td>Wed</td>\n",
       "      <td>de</td>\n",
       "    </tr>\n",
       "    <tr>\n",
       "      <th>66</th>\n",
       "      <td>https://www.yelp.com/biz/kumpir-hamburg-6</td>\n",
       "      <td>5.0</td>\n",
       "      <td>Absoluter Fan. Standard bei mir Habibi mit Hüh...</td>\n",
       "      <td>2013-03-03</td>\n",
       "      <td>134</td>\n",
       "      <td>2013</td>\n",
       "      <td>Mar</td>\n",
       "      <td>Sun</td>\n",
       "      <td>de</td>\n",
       "    </tr>\n",
       "    <tr>\n",
       "      <th>70</th>\n",
       "      <td>https://www.yelp.com/biz/kumpir-hamburg-6</td>\n",
       "      <td>5.0</td>\n",
       "      <td>Für preiswerte 3,70EUR gibt es hier eine Mahlz...</td>\n",
       "      <td>2011-12-03</td>\n",
       "      <td>549</td>\n",
       "      <td>2011</td>\n",
       "      <td>Dec</td>\n",
       "      <td>Sat</td>\n",
       "      <td>de</td>\n",
       "    </tr>\n",
       "    <tr>\n",
       "      <th>96</th>\n",
       "      <td>https://www.yelp.com/biz/chakra-caf%C3%A9-hamb...</td>\n",
       "      <td>4.0</td>\n",
       "      <td>ruehrei war lecker, orientalisches Fruehstueck...</td>\n",
       "      <td>2012-11-08</td>\n",
       "      <td>80</td>\n",
       "      <td>2012</td>\n",
       "      <td>Nov</td>\n",
       "      <td>Thu</td>\n",
       "      <td>de</td>\n",
       "    </tr>\n",
       "  </tbody>\n",
       "</table>\n",
       "</div>"
      ],
      "text/plain": [
       "                                                  url  stars  \\\n",
       "44      https://www.yelp.com/biz/cafe-strauss-hamburg    5.0   \n",
       "65          https://www.yelp.com/biz/kumpir-hamburg-6    5.0   \n",
       "66          https://www.yelp.com/biz/kumpir-hamburg-6    5.0   \n",
       "70          https://www.yelp.com/biz/kumpir-hamburg-6    5.0   \n",
       "96  https://www.yelp.com/biz/chakra-caf%C3%A9-hamb...    4.0   \n",
       "\n",
       "                                                 text       date  amount_text  \\\n",
       "44  Wir waren erneut zum Frühstück unter der Woche... 2013-08-27          167   \n",
       "65  Gaaaanz lecker und preiswert!!!! Ich stimme zu... 2011-08-24          161   \n",
       "66  Absoluter Fan. Standard bei mir Habibi mit Hüh... 2013-03-03          134   \n",
       "70  Für preiswerte 3,70EUR gibt es hier eine Mahlz... 2011-12-03          549   \n",
       "96  ruehrei war lecker, orientalisches Fruehstueck... 2012-11-08           80   \n",
       "\n",
       "    year month weekday language  \n",
       "44  2013   Aug     Tue       de  \n",
       "65  2011   Aug     Wed       de  \n",
       "66  2013   Mar     Sun       de  \n",
       "70  2011   Dec     Sat       de  \n",
       "96  2012   Nov     Thu       de  "
      ]
     },
     "execution_count": 57,
     "metadata": {},
     "output_type": "execute_result"
    }
   ],
   "source": [
    "yelp_reviews[\"language\"] = yelp_reviews[\"text\"].apply(lambda x: detect(x))\n",
    "yelp_reviews[yelp_reviews[\"language\"] != \"en\"].head()"
   ]
  },
  {
   "cell_type": "markdown",
   "metadata": {},
   "source": [
    "The evaluation of the languages shows that the data set also includes other languages such as German, French, danish, dutch, norweign or Spanish."
   ]
  },
  {
   "cell_type": "code",
   "execution_count": 58,
   "metadata": {},
   "outputs": [
    {
     "data": {
      "text/plain": [
       "de    76\n",
       "fr     3\n",
       "it     1\n",
       "lt     1\n",
       "da     1\n",
       "es     1\n",
       "Name: language, dtype: int64"
      ]
     },
     "execution_count": 58,
     "metadata": {},
     "output_type": "execute_result"
    }
   ],
   "source": [
    "yelp_reviews[yelp_reviews[\"language\"] != \"en\"][\"language\"].value_counts()"
   ]
  },
  {
   "cell_type": "markdown",
   "metadata": {},
   "source": [
    "Our later models can only make good predictions of sentiment for one language, so we need to remove non-English comments."
   ]
  },
  {
   "cell_type": "code",
   "execution_count": 59,
   "metadata": {},
   "outputs": [],
   "source": [
    "yelp_reviews_en = yelp_reviews[yelp_reviews[\"language\"] == \"en\"]"
   ]
  },
  {
   "cell_type": "code",
   "execution_count": 60,
   "metadata": {},
   "outputs": [],
   "source": [
    "evaluation_df = pd.DataFrame(\n",
    "    {\n",
    "        \"model\": [],\n",
    "        \"accuracy\": [],\n",
    "        \"confusion matrix\": [],\n",
    "    }\n",
    ")"
   ]
  },
  {
   "cell_type": "markdown",
   "metadata": {},
   "source": [
    "## Transformer Model\n",
    "The first model is to be created on the basis of a transformer. For this purpose, a model from Huggingface is used, which was trained on the basis of ratings and determines sentiments from 1-5. First, it will be investigated how well a model performs without FineTuning. The model is based on Bert and is multilingual. It supports the languages English, German, Dutch, French, Italian and Spanish. The developers state an accuracy of 67% for the English language. In this model, I would like to compare how the comments from English only differ from the mixed data set."
   ]
  },
  {
   "cell_type": "code",
   "execution_count": 61,
   "metadata": {},
   "outputs": [
    {
     "name": "stderr",
     "output_type": "stream",
     "text": [
      "loading configuration file https://huggingface.co/nlptown/bert-base-multilingual-uncased-sentiment/resolve/main/config.json from cache at C:\\Users\\wuest/.cache\\huggingface\\transformers\\d9226eeac7b8b96d83ebc327cdd670490866d8c999505c1f83b6ef206ccb1604.a34960b447312b0727cb670d710444fcb41a6156eddcba062a19b3fc05d95251\n",
      "Model config BertConfig {\n",
      "  \"_name_or_path\": \"nlptown/bert-base-multilingual-uncased-sentiment\",\n",
      "  \"_num_labels\": 5,\n",
      "  \"architectures\": [\n",
      "    \"BertForSequenceClassification\"\n",
      "  ],\n",
      "  \"attention_probs_dropout_prob\": 0.1,\n",
      "  \"classifier_dropout\": null,\n",
      "  \"directionality\": \"bidi\",\n",
      "  \"finetuning_task\": \"sentiment-analysis\",\n",
      "  \"hidden_act\": \"gelu\",\n",
      "  \"hidden_dropout_prob\": 0.1,\n",
      "  \"hidden_size\": 768,\n",
      "  \"id2label\": {\n",
      "    \"0\": \"1 star\",\n",
      "    \"1\": \"2 stars\",\n",
      "    \"2\": \"3 stars\",\n",
      "    \"3\": \"4 stars\",\n",
      "    \"4\": \"5 stars\"\n",
      "  },\n",
      "  \"initializer_range\": 0.02,\n",
      "  \"intermediate_size\": 3072,\n",
      "  \"label2id\": {\n",
      "    \"1 star\": 0,\n",
      "    \"2 stars\": 1,\n",
      "    \"3 stars\": 2,\n",
      "    \"4 stars\": 3,\n",
      "    \"5 stars\": 4\n",
      "  },\n",
      "  \"layer_norm_eps\": 1e-12,\n",
      "  \"max_position_embeddings\": 512,\n",
      "  \"model_type\": \"bert\",\n",
      "  \"num_attention_heads\": 12,\n",
      "  \"num_hidden_layers\": 12,\n",
      "  \"output_past\": true,\n",
      "  \"pad_token_id\": 0,\n",
      "  \"pooler_fc_size\": 768,\n",
      "  \"pooler_num_attention_heads\": 12,\n",
      "  \"pooler_num_fc_layers\": 3,\n",
      "  \"pooler_size_per_head\": 128,\n",
      "  \"pooler_type\": \"first_token_transform\",\n",
      "  \"position_embedding_type\": \"absolute\",\n",
      "  \"transformers_version\": \"4.19.2\",\n",
      "  \"type_vocab_size\": 2,\n",
      "  \"use_cache\": true,\n",
      "  \"vocab_size\": 105879\n",
      "}\n",
      "\n",
      "loading configuration file https://huggingface.co/nlptown/bert-base-multilingual-uncased-sentiment/resolve/main/config.json from cache at C:\\Users\\wuest/.cache\\huggingface\\transformers\\d9226eeac7b8b96d83ebc327cdd670490866d8c999505c1f83b6ef206ccb1604.a34960b447312b0727cb670d710444fcb41a6156eddcba062a19b3fc05d95251\n",
      "Model config BertConfig {\n",
      "  \"_name_or_path\": \"nlptown/bert-base-multilingual-uncased-sentiment\",\n",
      "  \"_num_labels\": 5,\n",
      "  \"architectures\": [\n",
      "    \"BertForSequenceClassification\"\n",
      "  ],\n",
      "  \"attention_probs_dropout_prob\": 0.1,\n",
      "  \"classifier_dropout\": null,\n",
      "  \"directionality\": \"bidi\",\n",
      "  \"finetuning_task\": \"sentiment-analysis\",\n",
      "  \"hidden_act\": \"gelu\",\n",
      "  \"hidden_dropout_prob\": 0.1,\n",
      "  \"hidden_size\": 768,\n",
      "  \"id2label\": {\n",
      "    \"0\": \"1 star\",\n",
      "    \"1\": \"2 stars\",\n",
      "    \"2\": \"3 stars\",\n",
      "    \"3\": \"4 stars\",\n",
      "    \"4\": \"5 stars\"\n",
      "  },\n",
      "  \"initializer_range\": 0.02,\n",
      "  \"intermediate_size\": 3072,\n",
      "  \"label2id\": {\n",
      "    \"1 star\": 0,\n",
      "    \"2 stars\": 1,\n",
      "    \"3 stars\": 2,\n",
      "    \"4 stars\": 3,\n",
      "    \"5 stars\": 4\n",
      "  },\n",
      "  \"layer_norm_eps\": 1e-12,\n",
      "  \"max_position_embeddings\": 512,\n",
      "  \"model_type\": \"bert\",\n",
      "  \"num_attention_heads\": 12,\n",
      "  \"num_hidden_layers\": 12,\n",
      "  \"output_past\": true,\n",
      "  \"pad_token_id\": 0,\n",
      "  \"pooler_fc_size\": 768,\n",
      "  \"pooler_num_attention_heads\": 12,\n",
      "  \"pooler_num_fc_layers\": 3,\n",
      "  \"pooler_size_per_head\": 128,\n",
      "  \"pooler_type\": \"first_token_transform\",\n",
      "  \"position_embedding_type\": \"absolute\",\n",
      "  \"transformers_version\": \"4.19.2\",\n",
      "  \"type_vocab_size\": 2,\n",
      "  \"use_cache\": true,\n",
      "  \"vocab_size\": 105879\n",
      "}\n",
      "\n",
      "loading weights file https://huggingface.co/nlptown/bert-base-multilingual-uncased-sentiment/resolve/main/pytorch_model.bin from cache at C:\\Users\\wuest/.cache\\huggingface\\transformers\\c3020f16ae496cb8ba53cdb83e08cca88c008e5c4263884ecdc4a8a6000e8751.2da3f39deb1fb7ac0e8bd6c41b5ded28013a75c0d779d283a57e6b0fe34d4091\n",
      "All model checkpoint weights were used when initializing BertForSequenceClassification.\n",
      "\n",
      "All the weights of BertForSequenceClassification were initialized from the model checkpoint at nlptown/bert-base-multilingual-uncased-sentiment.\n",
      "If your task is similar to the task the model of the checkpoint was trained on, you can already use BertForSequenceClassification for predictions without further training.\n",
      "loading configuration file https://huggingface.co/nlptown/bert-base-multilingual-uncased-sentiment/resolve/main/config.json from cache at C:\\Users\\wuest/.cache\\huggingface\\transformers\\d9226eeac7b8b96d83ebc327cdd670490866d8c999505c1f83b6ef206ccb1604.a34960b447312b0727cb670d710444fcb41a6156eddcba062a19b3fc05d95251\n",
      "Model config BertConfig {\n",
      "  \"_name_or_path\": \"nlptown/bert-base-multilingual-uncased-sentiment\",\n",
      "  \"_num_labels\": 5,\n",
      "  \"architectures\": [\n",
      "    \"BertForSequenceClassification\"\n",
      "  ],\n",
      "  \"attention_probs_dropout_prob\": 0.1,\n",
      "  \"classifier_dropout\": null,\n",
      "  \"directionality\": \"bidi\",\n",
      "  \"finetuning_task\": \"sentiment-analysis\",\n",
      "  \"hidden_act\": \"gelu\",\n",
      "  \"hidden_dropout_prob\": 0.1,\n",
      "  \"hidden_size\": 768,\n",
      "  \"id2label\": {\n",
      "    \"0\": \"1 star\",\n",
      "    \"1\": \"2 stars\",\n",
      "    \"2\": \"3 stars\",\n",
      "    \"3\": \"4 stars\",\n",
      "    \"4\": \"5 stars\"\n",
      "  },\n",
      "  \"initializer_range\": 0.02,\n",
      "  \"intermediate_size\": 3072,\n",
      "  \"label2id\": {\n",
      "    \"1 star\": 0,\n",
      "    \"2 stars\": 1,\n",
      "    \"3 stars\": 2,\n",
      "    \"4 stars\": 3,\n",
      "    \"5 stars\": 4\n",
      "  },\n",
      "  \"layer_norm_eps\": 1e-12,\n",
      "  \"max_position_embeddings\": 512,\n",
      "  \"model_type\": \"bert\",\n",
      "  \"num_attention_heads\": 12,\n",
      "  \"num_hidden_layers\": 12,\n",
      "  \"output_past\": true,\n",
      "  \"pad_token_id\": 0,\n",
      "  \"pooler_fc_size\": 768,\n",
      "  \"pooler_num_attention_heads\": 12,\n",
      "  \"pooler_num_fc_layers\": 3,\n",
      "  \"pooler_size_per_head\": 128,\n",
      "  \"pooler_type\": \"first_token_transform\",\n",
      "  \"position_embedding_type\": \"absolute\",\n",
      "  \"transformers_version\": \"4.19.2\",\n",
      "  \"type_vocab_size\": 2,\n",
      "  \"use_cache\": true,\n",
      "  \"vocab_size\": 105879\n",
      "}\n",
      "\n",
      "loading file https://huggingface.co/nlptown/bert-base-multilingual-uncased-sentiment/resolve/main/vocab.txt from cache at C:\\Users\\wuest/.cache\\huggingface\\transformers\\d893db6e58fdc9c39ecb49aaba0fc940780c179e1fff5bfe27e322e1599c191f.92022aa29ab6663b0b4254744f28ab43e6adf4deebe0f26651e6c61f28f69d8b\n",
      "loading file https://huggingface.co/nlptown/bert-base-multilingual-uncased-sentiment/resolve/main/tokenizer.json from cache at None\n",
      "loading file https://huggingface.co/nlptown/bert-base-multilingual-uncased-sentiment/resolve/main/added_tokens.json from cache at None\n",
      "loading file https://huggingface.co/nlptown/bert-base-multilingual-uncased-sentiment/resolve/main/special_tokens_map.json from cache at C:\\Users\\wuest/.cache\\huggingface\\transformers\\ed85e7bfaa7dfcf9924004400478a6426fcab28d3e427960549371a1729115d1.dd8bd9bfd3664b530ea4e645105f557769387b3da9f79bdb55ed556bdd80611d\n",
      "loading file https://huggingface.co/nlptown/bert-base-multilingual-uncased-sentiment/resolve/main/tokenizer_config.json from cache at C:\\Users\\wuest/.cache\\huggingface\\transformers\\4d1409805ace1b4cc209352f82a0f0c59a015433d0a58e655394ffe7bbb755e9.13a045cad07359e6844c4f487af8e6323ad2308cac6357692d2359f1a9711443\n",
      "loading configuration file https://huggingface.co/nlptown/bert-base-multilingual-uncased-sentiment/resolve/main/config.json from cache at C:\\Users\\wuest/.cache\\huggingface\\transformers\\d9226eeac7b8b96d83ebc327cdd670490866d8c999505c1f83b6ef206ccb1604.a34960b447312b0727cb670d710444fcb41a6156eddcba062a19b3fc05d95251\n",
      "Model config BertConfig {\n",
      "  \"_name_or_path\": \"nlptown/bert-base-multilingual-uncased-sentiment\",\n",
      "  \"_num_labels\": 5,\n",
      "  \"architectures\": [\n",
      "    \"BertForSequenceClassification\"\n",
      "  ],\n",
      "  \"attention_probs_dropout_prob\": 0.1,\n",
      "  \"classifier_dropout\": null,\n",
      "  \"directionality\": \"bidi\",\n",
      "  \"finetuning_task\": \"sentiment-analysis\",\n",
      "  \"hidden_act\": \"gelu\",\n",
      "  \"hidden_dropout_prob\": 0.1,\n",
      "  \"hidden_size\": 768,\n",
      "  \"id2label\": {\n",
      "    \"0\": \"1 star\",\n",
      "    \"1\": \"2 stars\",\n",
      "    \"2\": \"3 stars\",\n",
      "    \"3\": \"4 stars\",\n",
      "    \"4\": \"5 stars\"\n",
      "  },\n",
      "  \"initializer_range\": 0.02,\n",
      "  \"intermediate_size\": 3072,\n",
      "  \"label2id\": {\n",
      "    \"1 star\": 0,\n",
      "    \"2 stars\": 1,\n",
      "    \"3 stars\": 2,\n",
      "    \"4 stars\": 3,\n",
      "    \"5 stars\": 4\n",
      "  },\n",
      "  \"layer_norm_eps\": 1e-12,\n",
      "  \"max_position_embeddings\": 512,\n",
      "  \"model_type\": \"bert\",\n",
      "  \"num_attention_heads\": 12,\n",
      "  \"num_hidden_layers\": 12,\n",
      "  \"output_past\": true,\n",
      "  \"pad_token_id\": 0,\n",
      "  \"pooler_fc_size\": 768,\n",
      "  \"pooler_num_attention_heads\": 12,\n",
      "  \"pooler_num_fc_layers\": 3,\n",
      "  \"pooler_size_per_head\": 128,\n",
      "  \"pooler_type\": \"first_token_transform\",\n",
      "  \"position_embedding_type\": \"absolute\",\n",
      "  \"transformers_version\": \"4.19.2\",\n",
      "  \"type_vocab_size\": 2,\n",
      "  \"use_cache\": true,\n",
      "  \"vocab_size\": 105879\n",
      "}\n",
      "\n",
      "loading configuration file https://huggingface.co/nlptown/bert-base-multilingual-uncased-sentiment/resolve/main/config.json from cache at C:\\Users\\wuest/.cache\\huggingface\\transformers\\d9226eeac7b8b96d83ebc327cdd670490866d8c999505c1f83b6ef206ccb1604.a34960b447312b0727cb670d710444fcb41a6156eddcba062a19b3fc05d95251\n",
      "Model config BertConfig {\n",
      "  \"_name_or_path\": \"nlptown/bert-base-multilingual-uncased-sentiment\",\n",
      "  \"_num_labels\": 5,\n",
      "  \"architectures\": [\n",
      "    \"BertForSequenceClassification\"\n",
      "  ],\n",
      "  \"attention_probs_dropout_prob\": 0.1,\n",
      "  \"classifier_dropout\": null,\n",
      "  \"directionality\": \"bidi\",\n",
      "  \"finetuning_task\": \"sentiment-analysis\",\n",
      "  \"hidden_act\": \"gelu\",\n",
      "  \"hidden_dropout_prob\": 0.1,\n",
      "  \"hidden_size\": 768,\n",
      "  \"id2label\": {\n",
      "    \"0\": \"1 star\",\n",
      "    \"1\": \"2 stars\",\n",
      "    \"2\": \"3 stars\",\n",
      "    \"3\": \"4 stars\",\n",
      "    \"4\": \"5 stars\"\n",
      "  },\n",
      "  \"initializer_range\": 0.02,\n",
      "  \"intermediate_size\": 3072,\n",
      "  \"label2id\": {\n",
      "    \"1 star\": 0,\n",
      "    \"2 stars\": 1,\n",
      "    \"3 stars\": 2,\n",
      "    \"4 stars\": 3,\n",
      "    \"5 stars\": 4\n",
      "  },\n",
      "  \"layer_norm_eps\": 1e-12,\n",
      "  \"max_position_embeddings\": 512,\n",
      "  \"model_type\": \"bert\",\n",
      "  \"num_attention_heads\": 12,\n",
      "  \"num_hidden_layers\": 12,\n",
      "  \"output_past\": true,\n",
      "  \"pad_token_id\": 0,\n",
      "  \"pooler_fc_size\": 768,\n",
      "  \"pooler_num_attention_heads\": 12,\n",
      "  \"pooler_num_fc_layers\": 3,\n",
      "  \"pooler_size_per_head\": 128,\n",
      "  \"pooler_type\": \"first_token_transform\",\n",
      "  \"position_embedding_type\": \"absolute\",\n",
      "  \"transformers_version\": \"4.19.2\",\n",
      "  \"type_vocab_size\": 2,\n",
      "  \"use_cache\": true,\n",
      "  \"vocab_size\": 105879\n",
      "}\n",
      "\n"
     ]
    }
   ],
   "source": [
    "sentiment_pipeline = pipeline(\n",
    "    \"sentiment-analysis\", \"nlptown/bert-base-multilingual-uncased-sentiment\"\n",
    ")"
   ]
  },
  {
   "cell_type": "markdown",
   "metadata": {},
   "source": [
    "The Config can be used to obtain information about the model. The Bert model has 5 labels as output and a BertForSequenceClassification architecture. The output is a string that evaluates the rating based on \"1 star\" -> 1."
   ]
  },
  {
   "cell_type": "code",
   "execution_count": 62,
   "metadata": {},
   "outputs": [
    {
     "name": "stdout",
     "output_type": "stream",
     "text": [
      "BertConfig {\n",
      "  \"_name_or_path\": \"nlptown/bert-base-multilingual-uncased-sentiment\",\n",
      "  \"_num_labels\": 5,\n",
      "  \"architectures\": [\n",
      "    \"BertForSequenceClassification\"\n",
      "  ],\n",
      "  \"attention_probs_dropout_prob\": 0.1,\n",
      "  \"classifier_dropout\": null,\n",
      "  \"directionality\": \"bidi\",\n",
      "  \"finetuning_task\": \"sentiment-analysis\",\n",
      "  \"hidden_act\": \"gelu\",\n",
      "  \"hidden_dropout_prob\": 0.1,\n",
      "  \"hidden_size\": 768,\n",
      "  \"id2label\": {\n",
      "    \"0\": \"1 star\",\n",
      "    \"1\": \"2 stars\",\n",
      "    \"2\": \"3 stars\",\n",
      "    \"3\": \"4 stars\",\n",
      "    \"4\": \"5 stars\"\n",
      "  },\n",
      "  \"initializer_range\": 0.02,\n",
      "  \"intermediate_size\": 3072,\n",
      "  \"label2id\": {\n",
      "    \"1 star\": 0,\n",
      "    \"2 stars\": 1,\n",
      "    \"3 stars\": 2,\n",
      "    \"4 stars\": 3,\n",
      "    \"5 stars\": 4\n",
      "  },\n",
      "  \"layer_norm_eps\": 1e-12,\n",
      "  \"max_position_embeddings\": 512,\n",
      "  \"model_type\": \"bert\",\n",
      "  \"num_attention_heads\": 12,\n",
      "  \"num_hidden_layers\": 12,\n",
      "  \"output_past\": true,\n",
      "  \"pad_token_id\": 0,\n",
      "  \"pooler_fc_size\": 768,\n",
      "  \"pooler_num_attention_heads\": 12,\n",
      "  \"pooler_num_fc_layers\": 3,\n",
      "  \"pooler_size_per_head\": 128,\n",
      "  \"pooler_type\": \"first_token_transform\",\n",
      "  \"position_embedding_type\": \"absolute\",\n",
      "  \"transformers_version\": \"4.19.2\",\n",
      "  \"type_vocab_size\": 2,\n",
      "  \"use_cache\": true,\n",
      "  \"vocab_size\": 105879\n",
      "}\n",
      "\n"
     ]
    }
   ],
   "source": [
    "print(sentiment_pipeline.model.config)"
   ]
  },
  {
   "cell_type": "markdown",
   "metadata": {},
   "source": [
    "To get a better overview of the Tokenizer, you can display the Tokenizer. You will notice that the model may have a maximum of 512 characters as input. This means that the data we can use for the experiment is significantly smaller."
   ]
  },
  {
   "cell_type": "code",
   "execution_count": 63,
   "metadata": {},
   "outputs": [
    {
     "data": {
      "text/plain": [
       "PreTrainedTokenizerFast(name_or_path='nlptown/bert-base-multilingual-uncased-sentiment', vocab_size=105879, model_max_len=512, is_fast=True, padding_side='right', truncation_side='right', special_tokens={'unk_token': '[UNK]', 'sep_token': '[SEP]', 'pad_token': '[PAD]', 'cls_token': '[CLS]', 'mask_token': '[MASK]'})"
      ]
     },
     "execution_count": 63,
     "metadata": {},
     "output_type": "execute_result"
    }
   ],
   "source": [
    "sentiment_pipeline.tokenizer"
   ]
  },
  {
   "cell_type": "markdown",
   "metadata": {},
   "source": [
    "After adjusting the maximum length of comments to 512 characters, the data set has dropped to 1929. Compared to the initial data set, we can only use 60% of the data."
   ]
  },
  {
   "cell_type": "code",
   "execution_count": 64,
   "metadata": {},
   "outputs": [
    {
     "name": "stdout",
     "output_type": "stream",
     "text": [
      "The dataset contains now 1929 samples.\n",
      "The english dataset contains now 1863 samples.\n"
     ]
    }
   ],
   "source": [
    "yelp_reviews = yelp_reviews[yelp_reviews[\"amount_text\"] <= 512]\n",
    "print(f\"The dataset contains now {yelp_reviews.shape[0]} samples.\")\n",
    "yelp_reviews_en = yelp_reviews_en[yelp_reviews_en[\"amount_text\"] <= 512]\n",
    "print(f\"The english dataset contains now {yelp_reviews_en.shape[0]} samples.\")"
   ]
  },
  {
   "cell_type": "markdown",
   "metadata": {},
   "source": [
    "In the next step, we use Huggingface's pipeline to create the sentiments based on the transformer. This is first done with the entire dataset."
   ]
  },
  {
   "cell_type": "code",
   "execution_count": 65,
   "metadata": {},
   "outputs": [],
   "source": [
    "yelp_reviews[\"rating\"] = yelp_reviews[\"text\"].apply(lambda x: sentiment_pipeline(x)[0].get(\"label\"))\n",
    "yelp_reviews[\"rating\"] = yelp_reviews[\"rating\"].apply(lambda x: int(x[0]))\n",
    "yelp_reviews = yelp_reviews.astype({\"stars\": int})"
   ]
  },
  {
   "cell_type": "markdown",
   "metadata": {},
   "source": [
    "In the next step we create the Accuracy and Confusion matrix and save the result. The results are compared at the end of this chapter."
   ]
  },
  {
   "cell_type": "code",
   "execution_count": 66,
   "metadata": {},
   "outputs": [],
   "source": [
    "acc_score = accuracy_score(yelp_reviews[\"stars\"], yelp_reviews[\"rating\"])\n",
    "cm = confusion_matrix(yelp_reviews[\"stars\"], yelp_reviews[\"rating\"], labels=[1, 2, 3, 4, 5])\n",
    "evaluation_df = evaluation_df.append(\n",
    "    pd.DataFrame({\"model\": [\"Transformer\"], \"accuracy\": [acc_score], \"confusion matrix\": [cm]})\n",
    ")"
   ]
  },
  {
   "cell_type": "markdown",
   "metadata": {},
   "source": [
    "We now perform the same procedure for the English data set."
   ]
  },
  {
   "cell_type": "code",
   "execution_count": 67,
   "metadata": {},
   "outputs": [],
   "source": [
    "yelp_reviews_en[\"rating\"] = yelp_reviews_en[\"text\"].apply(\n",
    "    lambda x: sentiment_pipeline(x)[0].get(\"label\")\n",
    ")\n",
    "yelp_reviews_en[\"rating\"] = yelp_reviews_en[\"rating\"].apply(lambda x: int(x[0]))\n",
    "yelp_reviews_en = yelp_reviews_en.astype({\"stars\": int})\n",
    "acc_score = accuracy_score(yelp_reviews_en[\"stars\"], yelp_reviews_en[\"rating\"])\n",
    "cm = confusion_matrix(yelp_reviews_en[\"stars\"], yelp_reviews_en[\"rating\"], labels=[1, 2, 3, 4, 5])\n",
    "evaluation_df = evaluation_df.append(\n",
    "    pd.DataFrame({\"model\": [\"Transformer EN\"], \"accuracy\": [acc_score], \"confusion matrix\": [cm]})\n",
    ")"
   ]
  },
  {
   "cell_type": "markdown",
   "metadata": {},
   "source": [
    "In the Confusiomatrix plot shown below, the two approaches are compared. On the left side is the plot with the whole dataset and on the right side the dataset that has English-only comments. The accuracy of both models is very similar, with the model with the mixed language dataset performing 0.01% better than the English-only dataset. The multi-lingual dataset achieved an accuracy of 0.63 and the English-only dataset an accuracy of 0.62. Since the Transformer is multilinual, it makes sense that it performed a bit better because it thus had more data. <br>\n",
    "From both confusion matrices, it can be seen that most of the deviation is around one rating point."
   ]
  },
  {
   "cell_type": "code",
   "execution_count": 68,
   "metadata": {},
   "outputs": [
    {
     "data": {
      "image/png": "[encoded data removed]",
      "text/plain": [
       "<Figure size 720x180 with 3 Axes>"
      ]
     },
     "metadata": {
      "needs_background": "light"
     },
     "output_type": "display_data"
    }
   ],
   "source": [
    "fig, axes = plt.subplots(1, 2, figsize=(10, 2.5), sharey=\"row\")\n",
    "plt.subplots_adjust(left=None, bottom=None, right=1.4, top=1.4, wspace=0.1, hspace=None)\n",
    "fig.suptitle(\n",
    "    \"Fig. 3 Confusionmatrix of Transformer and Transformer EN(only english data)\",\n",
    "    horizontalalignment=\"left\",\n",
    "    y=1.65,\n",
    "    fontsize=12,\n",
    ")\n",
    "labels = [1, 2, 3, 4, 5]\n",
    "for i in range(2):\n",
    "    disp = ConfusionMatrixDisplay(confusion_matrix=evaluation_df.iloc[i, 2], display_labels=labels)\n",
    "    disp.plot(ax=axes[i])\n",
    "    disp.ax_.set_title(\n",
    "        f\"{evaluation_df.iloc[i,0]} with an accuracy of {round(evaluation_df.iloc[i,1],2)} \"\n",
    "    )\n",
    "    disp.im_.colorbar.remove()\n",
    "    disp.ax_.set_xlabel(\"Predicted label\")\n",
    "\n",
    "# f.text(0.4, 0.1, 'Predicted label', ha='left')\n",
    "# plt.subplots_adjust(wspace=0.40, hspace=0.1)\n",
    "# Save figure\n",
    "plt.savefig(\"output/conf_transformer\", bbox_inches=\"tight\")\n",
    "\n",
    "fig.colorbar(disp.im_, ax=axes)\n",
    "plt.show()"
   ]
  },
  {
   "cell_type": "markdown",
   "metadata": {},
   "source": [
    "### Fine-Tuned Model with Hugging Face\n",
    "\n",
    "The next step is to train the output transformer \"nlptown/bert-base-multilingual-uncased-sentiment\" on our data. Before we can do that, we need to do some pre-processing steps. For this we need to create a training data set, a validation set and a test set. Since the Transformer has an internal rating system of 0-4, we have to adjust the stars."
   ]
  },
  {
   "cell_type": "code",
   "execution_count": 69,
   "metadata": {},
   "outputs": [],
   "source": [
    "yelp_reviews = pd.read_csv(\"data/yelp_reviews_hamburg_en.csv\")\n",
    "yelp_reviews = yelp_reviews.astype({\"stars\": int})\n",
    "yelp_reviews[\"stars\"] = yelp_reviews[\"stars\"].apply(lambda x: x - 1)"
   ]
  },
  {
   "cell_type": "markdown",
   "metadata": {},
   "source": [
    "The next step is to create a split between training, validation and test data using SKlearn. The validation data set is 20% of the general data set. Furthermore, we only need the text and the rating. Then we save the data in a CSV file so that we can work with it more easily later."
   ]
  },
  {
   "cell_type": "code",
   "execution_count": 70,
   "metadata": {},
   "outputs": [
    {
     "data": {
      "text/plain": [
       "((1936, 2), (484, 2), (605, 2))"
      ]
     },
     "execution_count": 70,
     "metadata": {},
     "output_type": "execute_result"
    }
   ],
   "source": [
    "train_df, test_df = train_test_split(yelp_reviews, test_size=0.2, random_state=1)\n",
    "train, val_df = train_test_split(train_df, test_size=0.2, random_state=1)\n",
    "val_df = val_df[[\"stars\", \"text\"]]\n",
    "train = train[[\"stars\", \"text\"]]\n",
    "test_df = test_df[[\"stars\", \"text\"]]\n",
    "train.to_csv(\"data/train.csv\", index=False)\n",
    "val_df.to_csv(\"data/val.csv\", index=False)\n",
    "train.shape, val_df.shape, test_df.shape"
   ]
  },
  {
   "cell_type": "markdown",
   "metadata": {},
   "source": [
    "With the help of the Huggingface Dataset library, we can load the data from the Csv file and put it directly into a certain format, which will help us to better train our transformer later on."
   ]
  },
  {
   "cell_type": "code",
   "execution_count": 71,
   "metadata": {},
   "outputs": [
    {
     "name": "stderr",
     "output_type": "stream",
     "text": [
      "Using custom data configuration default-78487bdd1ae6aa53\n"
     ]
    },
    {
     "name": "stdout",
     "output_type": "stream",
     "text": [
      "Downloading and preparing dataset csv/default to C:\\Users\\wuest\\.cache\\huggingface\\datasets\\csv\\default-78487bdd1ae6aa53\\0.0.0\\433e0ccc46f9880962cc2b12065189766fbb2bee57a221866138fb9203c83519...\n"
     ]
    },
    {
     "data": {
      "application/vnd.jupyter.widget-view+json": {
       "model_id": "df1c4392deba4f4bb436380b0de88e04",
       "version_major": 2,
       "version_minor": 0
      },
      "text/plain": [
       "Downloading data files:   0%|          | 0/2 [00:00<?, ?it/s]"
      ]
     },
     "metadata": {},
     "output_type": "display_data"
    },
    {
     "data": {
      "application/vnd.jupyter.widget-view+json": {
       "model_id": "9438b40504024f5695c909e07071fbdf",
       "version_major": 2,
       "version_minor": 0
      },
      "text/plain": [
       "Extracting data files:   0%|          | 0/2 [00:00<?, ?it/s]"
      ]
     },
     "metadata": {},
     "output_type": "display_data"
    },
    {
     "name": "stdout",
     "output_type": "stream",
     "text": [
      "Dataset csv downloaded and prepared to C:\\Users\\wuest\\.cache\\huggingface\\datasets\\csv\\default-78487bdd1ae6aa53\\0.0.0\\433e0ccc46f9880962cc2b12065189766fbb2bee57a221866138fb9203c83519. Subsequent calls will reuse this data.\n"
     ]
    },
    {
     "data": {
      "application/vnd.jupyter.widget-view+json": {
       "model_id": "640c4961638d482ba147743a76c803c8",
       "version_major": 2,
       "version_minor": 0
      },
      "text/plain": [
       "  0%|          | 0/2 [00:00<?, ?it/s]"
      ]
     },
     "metadata": {},
     "output_type": "display_data"
    }
   ],
   "source": [
    "dataset = load_dataset(\"csv\", data_files={\"train\": \"data/train.csv\", \"test\": \"data/val.csv\"})"
   ]
  },
  {
   "cell_type": "markdown",
   "metadata": {},
   "source": [
    "The function `tokenize_function` uses the tokenizer of the model \"nlptown/bert-base-multilingual-uncased-sentiment\" to convert the words into tokens. Using the paramter padding we can determine the maximum length of the input words. We have already seen from the previous experiment that this is 512 words."
   ]
  },
  {
   "cell_type": "code",
   "execution_count": 72,
   "metadata": {},
   "outputs": [
    {
     "name": "stderr",
     "output_type": "stream",
     "text": [
      "loading configuration file https://huggingface.co/nlptown/bert-base-multilingual-uncased-sentiment/resolve/main/config.json from cache at C:\\Users\\wuest/.cache\\huggingface\\transformers\\d9226eeac7b8b96d83ebc327cdd670490866d8c999505c1f83b6ef206ccb1604.a34960b447312b0727cb670d710444fcb41a6156eddcba062a19b3fc05d95251\n",
      "Model config BertConfig {\n",
      "  \"_name_or_path\": \"nlptown/bert-base-multilingual-uncased-sentiment\",\n",
      "  \"_num_labels\": 5,\n",
      "  \"architectures\": [\n",
      "    \"BertForSequenceClassification\"\n",
      "  ],\n",
      "  \"attention_probs_dropout_prob\": 0.1,\n",
      "  \"classifier_dropout\": null,\n",
      "  \"directionality\": \"bidi\",\n",
      "  \"finetuning_task\": \"sentiment-analysis\",\n",
      "  \"hidden_act\": \"gelu\",\n",
      "  \"hidden_dropout_prob\": 0.1,\n",
      "  \"hidden_size\": 768,\n",
      "  \"id2label\": {\n",
      "    \"0\": \"1 star\",\n",
      "    \"1\": \"2 stars\",\n",
      "    \"2\": \"3 stars\",\n",
      "    \"3\": \"4 stars\",\n",
      "    \"4\": \"5 stars\"\n",
      "  },\n",
      "  \"initializer_range\": 0.02,\n",
      "  \"intermediate_size\": 3072,\n",
      "  \"label2id\": {\n",
      "    \"1 star\": 0,\n",
      "    \"2 stars\": 1,\n",
      "    \"3 stars\": 2,\n",
      "    \"4 stars\": 3,\n",
      "    \"5 stars\": 4\n",
      "  },\n",
      "  \"layer_norm_eps\": 1e-12,\n",
      "  \"max_position_embeddings\": 512,\n",
      "  \"model_type\": \"bert\",\n",
      "  \"num_attention_heads\": 12,\n",
      "  \"num_hidden_layers\": 12,\n",
      "  \"output_past\": true,\n",
      "  \"pad_token_id\": 0,\n",
      "  \"pooler_fc_size\": 768,\n",
      "  \"pooler_num_attention_heads\": 12,\n",
      "  \"pooler_num_fc_layers\": 3,\n",
      "  \"pooler_size_per_head\": 128,\n",
      "  \"pooler_type\": \"first_token_transform\",\n",
      "  \"position_embedding_type\": \"absolute\",\n",
      "  \"transformers_version\": \"4.19.2\",\n",
      "  \"type_vocab_size\": 2,\n",
      "  \"use_cache\": true,\n",
      "  \"vocab_size\": 105879\n",
      "}\n",
      "\n",
      "loading file https://huggingface.co/nlptown/bert-base-multilingual-uncased-sentiment/resolve/main/vocab.txt from cache at C:\\Users\\wuest/.cache\\huggingface\\transformers\\d893db6e58fdc9c39ecb49aaba0fc940780c179e1fff5bfe27e322e1599c191f.92022aa29ab6663b0b4254744f28ab43e6adf4deebe0f26651e6c61f28f69d8b\n",
      "loading file https://huggingface.co/nlptown/bert-base-multilingual-uncased-sentiment/resolve/main/tokenizer.json from cache at None\n",
      "loading file https://huggingface.co/nlptown/bert-base-multilingual-uncased-sentiment/resolve/main/added_tokens.json from cache at None\n",
      "loading file https://huggingface.co/nlptown/bert-base-multilingual-uncased-sentiment/resolve/main/special_tokens_map.json from cache at C:\\Users\\wuest/.cache\\huggingface\\transformers\\ed85e7bfaa7dfcf9924004400478a6426fcab28d3e427960549371a1729115d1.dd8bd9bfd3664b530ea4e645105f557769387b3da9f79bdb55ed556bdd80611d\n",
      "loading file https://huggingface.co/nlptown/bert-base-multilingual-uncased-sentiment/resolve/main/tokenizer_config.json from cache at C:\\Users\\wuest/.cache\\huggingface\\transformers\\4d1409805ace1b4cc209352f82a0f0c59a015433d0a58e655394ffe7bbb755e9.13a045cad07359e6844c4f487af8e6323ad2308cac6357692d2359f1a9711443\n",
      "loading configuration file https://huggingface.co/nlptown/bert-base-multilingual-uncased-sentiment/resolve/main/config.json from cache at C:\\Users\\wuest/.cache\\huggingface\\transformers\\d9226eeac7b8b96d83ebc327cdd670490866d8c999505c1f83b6ef206ccb1604.a34960b447312b0727cb670d710444fcb41a6156eddcba062a19b3fc05d95251\n",
      "Model config BertConfig {\n",
      "  \"_name_or_path\": \"nlptown/bert-base-multilingual-uncased-sentiment\",\n",
      "  \"_num_labels\": 5,\n",
      "  \"architectures\": [\n",
      "    \"BertForSequenceClassification\"\n",
      "  ],\n",
      "  \"attention_probs_dropout_prob\": 0.1,\n",
      "  \"classifier_dropout\": null,\n",
      "  \"directionality\": \"bidi\",\n",
      "  \"finetuning_task\": \"sentiment-analysis\",\n",
      "  \"hidden_act\": \"gelu\",\n",
      "  \"hidden_dropout_prob\": 0.1,\n",
      "  \"hidden_size\": 768,\n",
      "  \"id2label\": {\n",
      "    \"0\": \"1 star\",\n",
      "    \"1\": \"2 stars\",\n",
      "    \"2\": \"3 stars\",\n",
      "    \"3\": \"4 stars\",\n",
      "    \"4\": \"5 stars\"\n",
      "  },\n",
      "  \"initializer_range\": 0.02,\n",
      "  \"intermediate_size\": 3072,\n",
      "  \"label2id\": {\n",
      "    \"1 star\": 0,\n",
      "    \"2 stars\": 1,\n",
      "    \"3 stars\": 2,\n",
      "    \"4 stars\": 3,\n",
      "    \"5 stars\": 4\n",
      "  },\n",
      "  \"layer_norm_eps\": 1e-12,\n",
      "  \"max_position_embeddings\": 512,\n",
      "  \"model_type\": \"bert\",\n",
      "  \"num_attention_heads\": 12,\n",
      "  \"num_hidden_layers\": 12,\n",
      "  \"output_past\": true,\n",
      "  \"pad_token_id\": 0,\n",
      "  \"pooler_fc_size\": 768,\n",
      "  \"pooler_num_attention_heads\": 12,\n",
      "  \"pooler_num_fc_layers\": 3,\n",
      "  \"pooler_size_per_head\": 128,\n",
      "  \"pooler_type\": \"first_token_transform\",\n",
      "  \"position_embedding_type\": \"absolute\",\n",
      "  \"transformers_version\": \"4.19.2\",\n",
      "  \"type_vocab_size\": 2,\n",
      "  \"use_cache\": true,\n",
      "  \"vocab_size\": 105879\n",
      "}\n",
      "\n",
      "loading configuration file https://huggingface.co/nlptown/bert-base-multilingual-uncased-sentiment/resolve/main/config.json from cache at C:\\Users\\wuest/.cache\\huggingface\\transformers\\d9226eeac7b8b96d83ebc327cdd670490866d8c999505c1f83b6ef206ccb1604.a34960b447312b0727cb670d710444fcb41a6156eddcba062a19b3fc05d95251\n",
      "Model config BertConfig {\n",
      "  \"_name_or_path\": \"nlptown/bert-base-multilingual-uncased-sentiment\",\n",
      "  \"_num_labels\": 5,\n",
      "  \"architectures\": [\n",
      "    \"BertForSequenceClassification\"\n",
      "  ],\n",
      "  \"attention_probs_dropout_prob\": 0.1,\n",
      "  \"classifier_dropout\": null,\n",
      "  \"directionality\": \"bidi\",\n",
      "  \"finetuning_task\": \"sentiment-analysis\",\n",
      "  \"hidden_act\": \"gelu\",\n",
      "  \"hidden_dropout_prob\": 0.1,\n",
      "  \"hidden_size\": 768,\n",
      "  \"id2label\": {\n",
      "    \"0\": \"1 star\",\n",
      "    \"1\": \"2 stars\",\n",
      "    \"2\": \"3 stars\",\n",
      "    \"3\": \"4 stars\",\n",
      "    \"4\": \"5 stars\"\n",
      "  },\n",
      "  \"initializer_range\": 0.02,\n",
      "  \"intermediate_size\": 3072,\n",
      "  \"label2id\": {\n",
      "    \"1 star\": 0,\n",
      "    \"2 stars\": 1,\n",
      "    \"3 stars\": 2,\n",
      "    \"4 stars\": 3,\n",
      "    \"5 stars\": 4\n",
      "  },\n",
      "  \"layer_norm_eps\": 1e-12,\n",
      "  \"max_position_embeddings\": 512,\n",
      "  \"model_type\": \"bert\",\n",
      "  \"num_attention_heads\": 12,\n",
      "  \"num_hidden_layers\": 12,\n",
      "  \"output_past\": true,\n",
      "  \"pad_token_id\": 0,\n",
      "  \"pooler_fc_size\": 768,\n",
      "  \"pooler_num_attention_heads\": 12,\n",
      "  \"pooler_num_fc_layers\": 3,\n",
      "  \"pooler_size_per_head\": 128,\n",
      "  \"pooler_type\": \"first_token_transform\",\n",
      "  \"position_embedding_type\": \"absolute\",\n",
      "  \"transformers_version\": \"4.19.2\",\n",
      "  \"type_vocab_size\": 2,\n",
      "  \"use_cache\": true,\n",
      "  \"vocab_size\": 105879\n",
      "}\n",
      "\n"
     ]
    }
   ],
   "source": [
    "tokenizer = AutoTokenizer.from_pretrained(\"nlptown/bert-base-multilingual-uncased-sentiment\")\n",
    "\n",
    "\n",
    "def tokenize_function(text):\n",
    "    return tokenizer(text[\"text\"], padding=\"max_length\", truncation=True)"
   ]
  },
  {
   "cell_type": "markdown",
   "metadata": {},
   "source": [
    "With the help of the `tokenize_function`, the whole data set is converted into tokens. As further steps, columns are renamed or removed to match the output transformer. The last step is to split the data set into training data and validation data."
   ]
  },
  {
   "cell_type": "code",
   "execution_count": 73,
   "metadata": {},
   "outputs": [
    {
     "data": {
      "application/vnd.jupyter.widget-view+json": {
       "model_id": "f63d3288315d4803b74a573b3e2d7c2a",
       "version_major": 2,
       "version_minor": 0
      },
      "text/plain": [
       "  0%|          | 0/2 [00:00<?, ?ba/s]"
      ]
     },
     "metadata": {},
     "output_type": "display_data"
    },
    {
     "data": {
      "application/vnd.jupyter.widget-view+json": {
       "model_id": "b80c92a517844c4a8de5b444c058355d",
       "version_major": 2,
       "version_minor": 0
      },
      "text/plain": [
       "  0%|          | 0/1 [00:00<?, ?ba/s]"
      ]
     },
     "metadata": {},
     "output_type": "display_data"
    }
   ],
   "source": [
    "tokenized_datasets = dataset.map(tokenize_function, batched=True)\n",
    "tokenized_datasets = tokenized_datasets.rename_column(\"stars\", \"labels\")\n",
    "tokenized_datasets = tokenized_datasets.remove_columns([\"text\"])\n",
    "tokenized_datasets.set_format(\"torch\")\n",
    "small_train_dataset = tokenized_datasets[\"train\"].shuffle(seed=1)\n",
    "small_eval_dataset = tokenized_datasets[\"test\"].shuffle(seed=1)\n",
    "small_train_dataset = small_train_dataset.remove_columns([\"token_type_ids\"])\n",
    "small_eval_dataset = small_eval_dataset.remove_columns([\"token_type_ids\"])"
   ]
  },
  {
   "cell_type": "code",
   "execution_count": 74,
   "metadata": {},
   "outputs": [
    {
     "data": {
      "text/plain": [
       "(torch.Size([1936, 512]), torch.Size([484, 512]))"
      ]
     },
     "execution_count": 74,
     "metadata": {},
     "output_type": "execute_result"
    }
   ],
   "source": [
    "small_train_dataset[\"input_ids\"].size(), small_eval_dataset[\"input_ids\"].size()"
   ]
  },
  {
   "cell_type": "markdown",
   "metadata": {},
   "source": [
    "As a basis for customizing the transformer, we download the transformer \"nlptown/bert-base-multilingual-uncased-sentiment\" from Huggingface."
   ]
  },
  {
   "cell_type": "code",
   "execution_count": 75,
   "metadata": {},
   "outputs": [
    {
     "name": "stderr",
     "output_type": "stream",
     "text": [
      "loading configuration file https://huggingface.co/nlptown/bert-base-multilingual-uncased-sentiment/resolve/main/config.json from cache at C:\\Users\\wuest/.cache\\huggingface\\transformers\\d9226eeac7b8b96d83ebc327cdd670490866d8c999505c1f83b6ef206ccb1604.a34960b447312b0727cb670d710444fcb41a6156eddcba062a19b3fc05d95251\n",
      "Model config BertConfig {\n",
      "  \"_name_or_path\": \"nlptown/bert-base-multilingual-uncased-sentiment\",\n",
      "  \"_num_labels\": 5,\n",
      "  \"architectures\": [\n",
      "    \"BertForSequenceClassification\"\n",
      "  ],\n",
      "  \"attention_probs_dropout_prob\": 0.1,\n",
      "  \"classifier_dropout\": null,\n",
      "  \"directionality\": \"bidi\",\n",
      "  \"finetuning_task\": \"sentiment-analysis\",\n",
      "  \"hidden_act\": \"gelu\",\n",
      "  \"hidden_dropout_prob\": 0.1,\n",
      "  \"hidden_size\": 768,\n",
      "  \"id2label\": {\n",
      "    \"0\": \"1 star\",\n",
      "    \"1\": \"2 stars\",\n",
      "    \"2\": \"3 stars\",\n",
      "    \"3\": \"4 stars\",\n",
      "    \"4\": \"5 stars\"\n",
      "  },\n",
      "  \"initializer_range\": 0.02,\n",
      "  \"intermediate_size\": 3072,\n",
      "  \"label2id\": {\n",
      "    \"1 star\": 0,\n",
      "    \"2 stars\": 1,\n",
      "    \"3 stars\": 2,\n",
      "    \"4 stars\": 3,\n",
      "    \"5 stars\": 4\n",
      "  },\n",
      "  \"layer_norm_eps\": 1e-12,\n",
      "  \"max_position_embeddings\": 512,\n",
      "  \"model_type\": \"bert\",\n",
      "  \"num_attention_heads\": 12,\n",
      "  \"num_hidden_layers\": 12,\n",
      "  \"output_past\": true,\n",
      "  \"pad_token_id\": 0,\n",
      "  \"pooler_fc_size\": 768,\n",
      "  \"pooler_num_attention_heads\": 12,\n",
      "  \"pooler_num_fc_layers\": 3,\n",
      "  \"pooler_size_per_head\": 128,\n",
      "  \"pooler_type\": \"first_token_transform\",\n",
      "  \"position_embedding_type\": \"absolute\",\n",
      "  \"transformers_version\": \"4.19.2\",\n",
      "  \"type_vocab_size\": 2,\n",
      "  \"use_cache\": true,\n",
      "  \"vocab_size\": 105879\n",
      "}\n",
      "\n",
      "loading weights file https://huggingface.co/nlptown/bert-base-multilingual-uncased-sentiment/resolve/main/pytorch_model.bin from cache at C:\\Users\\wuest/.cache\\huggingface\\transformers\\c3020f16ae496cb8ba53cdb83e08cca88c008e5c4263884ecdc4a8a6000e8751.2da3f39deb1fb7ac0e8bd6c41b5ded28013a75c0d779d283a57e6b0fe34d4091\n",
      "All model checkpoint weights were used when initializing BertForSequenceClassification.\n",
      "\n",
      "All the weights of BertForSequenceClassification were initialized from the model checkpoint at nlptown/bert-base-multilingual-uncased-sentiment.\n",
      "If your task is similar to the task the model of the checkpoint was trained on, you can already use BertForSequenceClassification for predictions without further training.\n"
     ]
    }
   ],
   "source": [
    "model = AutoModelForSequenceClassification.from_pretrained(\n",
    "    \"nlptown/bert-base-multilingual-uncased-sentiment\"\n",
    ")"
   ]
  },
  {
   "cell_type": "markdown",
   "metadata": {},
   "source": [
    "Hugginface provides a trainer and TrainingArgument. The TrainingArgument is used to define how the training takes place. In my case I limited the training to 3 epochs because the training takes a long time. 3 epochs of training take 5 hours on my laptop. Furthermore batches have to be defined, which have to be as small as possible, because they are directly related to the RAM. With my computer of 16GB RAM a maximum batch size of 8 was possible."
   ]
  },
  {
   "cell_type": "code",
   "execution_count": 76,
   "metadata": {},
   "outputs": [
    {
     "name": "stderr",
     "output_type": "stream",
     "text": [
      "using `logging_steps` to initialize `eval_steps` to 500\n",
      "PyTorch: setting up devices\n",
      "The default value for the training argument `--report_to` will change in v5 (from all installed integrations to none). In v5, you will need to use `--report_to all` to get the same behavior as now. You should start updating your code and make this info disappear :-).\n"
     ]
    }
   ],
   "source": [
    "training_args = TrainingArguments(\n",
    "    output_dir=\"./sentiment-analysis\",\n",
    "    num_train_epochs=3,\n",
    "    per_device_train_batch_size=8,\n",
    "    per_device_eval_batch_size=8,\n",
    "    warmup_steps=500,\n",
    "    weight_decay=0.01,\n",
    "    save_strategy=\"epoch\",\n",
    "    evaluation_strategy=\"steps\",\n",
    ")"
   ]
  },
  {
   "cell_type": "markdown",
   "metadata": {},
   "source": [
    "The next step is to determine by which metric the model should be optimized. Since we want to achieve the highest possible accuracy, accuracy was used as the metric."
   ]
  },
  {
   "cell_type": "code",
   "execution_count": 77,
   "metadata": {},
   "outputs": [],
   "source": [
    "metric = load_metric(\"accuracy\")\n",
    "\n",
    "\n",
    "def compute_metrics(eval_pred):\n",
    "    logits, labels = eval_pred\n",
    "    predictions = np.argmax(logits, axis=-1)\n",
    "    return metric.compute(predictions=predictions, references=labels)"
   ]
  },
  {
   "cell_type": "markdown",
   "metadata": {},
   "source": [
    "The trainer library of hugginface takes all parameters that are important for the fine tuning of the model as input. It uses the initial model, the training arguments, the training and validation dataset and the metric on which the model should be optimized."
   ]
  },
  {
   "cell_type": "code",
   "execution_count": 78,
   "metadata": {},
   "outputs": [],
   "source": [
    "trainer = Trainer(\n",
    "    model=model,\n",
    "    args=training_args,\n",
    "    train_dataset=small_train_dataset,\n",
    "    eval_dataset=small_eval_dataset,\n",
    "    compute_metrics=compute_metrics,\n",
    ")"
   ]
  },
  {
   "cell_type": "markdown",
   "metadata": {},
   "source": [
    "In this step, the model is trained and fine-tuned to the dataset from yelp. After training, Huggingface will reflect the results for each epoch. The last model is always the best model, because it has the lowest loss. Since the model is stored locally, you can not share with other people. The training of three epochs takes 5h. Therefore is commented out."
   ]
  },
  {
   "cell_type": "code",
   "execution_count": 79,
   "metadata": {},
   "outputs": [],
   "source": [
    "# trainer.train()\n",
    "# tokenizer.save_pretrained(\"./sentiment-analysis\\checkpoint-303\")"
   ]
  },
  {
   "cell_type": "markdown",
   "metadata": {},
   "source": [
    "After fine-tuning the pre-trained model we can upload to the huggingface hub. This has the advantage that we can easily share the large amount of data with other people. Huggingface takes care of the storage of the large models. My local fine tuned model has a memory size of 2GB. Huggingface creates a Git repo for this, which anyone else can download immediately."
   ]
  },
  {
   "cell_type": "code",
   "execution_count": 80,
   "metadata": {},
   "outputs": [],
   "source": [
    "# tokenizer.push_to_hub(\"sentiment-analysis-fh-kiel\")\n",
    "# model.push_to_hub(\"sentiment-analysis-fh-kiel\")"
   ]
  },
  {
   "cell_type": "markdown",
   "metadata": {},
   "source": [
    "After uploading our fine tunded model to Huggingface, we can download the model from Huggingface in the same way as the first experiment."
   ]
  },
  {
   "cell_type": "code",
   "execution_count": 81,
   "metadata": {},
   "outputs": [
    {
     "name": "stderr",
     "output_type": "stream",
     "text": [
      "loading configuration file https://huggingface.co/wuesten/sentiment-analysis-fh-kiel/resolve/main/config.json from cache at C:\\Users\\wuest/.cache\\huggingface\\transformers\\69724c75ebe2d0a526b8206aba241eb25e6315a6a13501cab3f7893a6b23b6e1.4d7c9cb2ebe7ef2468ec93f4b3f4fefae4cb1236fe17d900d80b1e8d07a5ed75\n",
      "Model config BertConfig {\n",
      "  \"_name_or_path\": \"wuesten/sentiment-analysis-fh-kiel\",\n",
      "  \"_num_labels\": 5,\n",
      "  \"architectures\": [\n",
      "    \"BertForSequenceClassification\"\n",
      "  ],\n",
      "  \"attention_probs_dropout_prob\": 0.1,\n",
      "  \"classifier_dropout\": null,\n",
      "  \"directionality\": \"bidi\",\n",
      "  \"finetuning_task\": \"sentiment-analysis\",\n",
      "  \"hidden_act\": \"gelu\",\n",
      "  \"hidden_dropout_prob\": 0.1,\n",
      "  \"hidden_size\": 768,\n",
      "  \"id2label\": {\n",
      "    \"0\": \"1 star\",\n",
      "    \"1\": \"2 stars\",\n",
      "    \"2\": \"3 stars\",\n",
      "    \"3\": \"4 stars\",\n",
      "    \"4\": \"5 stars\"\n",
      "  },\n",
      "  \"initializer_range\": 0.02,\n",
      "  \"intermediate_size\": 3072,\n",
      "  \"label2id\": {\n",
      "    \"1 star\": 0,\n",
      "    \"2 stars\": 1,\n",
      "    \"3 stars\": 2,\n",
      "    \"4 stars\": 3,\n",
      "    \"5 stars\": 4\n",
      "  },\n",
      "  \"layer_norm_eps\": 1e-12,\n",
      "  \"max_position_embeddings\": 512,\n",
      "  \"model_type\": \"bert\",\n",
      "  \"num_attention_heads\": 12,\n",
      "  \"num_hidden_layers\": 12,\n",
      "  \"output_past\": true,\n",
      "  \"pad_token_id\": 0,\n",
      "  \"pooler_fc_size\": 768,\n",
      "  \"pooler_num_attention_heads\": 12,\n",
      "  \"pooler_num_fc_layers\": 3,\n",
      "  \"pooler_size_per_head\": 128,\n",
      "  \"pooler_type\": \"first_token_transform\",\n",
      "  \"position_embedding_type\": \"absolute\",\n",
      "  \"problem_type\": \"single_label_classification\",\n",
      "  \"torch_dtype\": \"float32\",\n",
      "  \"transformers_version\": \"4.19.2\",\n",
      "  \"type_vocab_size\": 2,\n",
      "  \"use_cache\": true,\n",
      "  \"vocab_size\": 105879\n",
      "}\n",
      "\n",
      "loading weights file https://huggingface.co/wuesten/sentiment-analysis-fh-kiel/resolve/main/pytorch_model.bin from cache at C:\\Users\\wuest/.cache\\huggingface\\transformers\\28dc080eede8c11c1af0fa48758d8a6dfa3963888829864bacf2ab76bb77ebba.5740b090cca13f85585249ad81c4a830c57a8a7678a4fccf57af79f50e429259\n",
      "All model checkpoint weights were used when initializing BertForSequenceClassification.\n",
      "\n",
      "All the weights of BertForSequenceClassification were initialized from the model checkpoint at wuesten/sentiment-analysis-fh-kiel.\n",
      "If your task is similar to the task the model of the checkpoint was trained on, you can already use BertForSequenceClassification for predictions without further training.\n",
      "loading file https://huggingface.co/wuesten/sentiment-analysis-fh-kiel/resolve/main/vocab.txt from cache at C:\\Users\\wuest/.cache\\huggingface\\transformers\\003c12a65d9d7d026b94428d59b00e0fc9252ebd037050474e5beb4a0b524645.92022aa29ab6663b0b4254744f28ab43e6adf4deebe0f26651e6c61f28f69d8b\n",
      "loading file https://huggingface.co/wuesten/sentiment-analysis-fh-kiel/resolve/main/tokenizer.json from cache at C:\\Users\\wuest/.cache\\huggingface\\transformers\\22404cfd8deafed38f910d414769b92557be4c07e4c56087bf870f8399bb73de.8368237f02b81d545587ea96874e5ca9dec8fe6184159b757e707e7969530631\n",
      "loading file https://huggingface.co/wuesten/sentiment-analysis-fh-kiel/resolve/main/added_tokens.json from cache at None\n",
      "loading file https://huggingface.co/wuesten/sentiment-analysis-fh-kiel/resolve/main/special_tokens_map.json from cache at C:\\Users\\wuest/.cache\\huggingface\\transformers\\38bc4b10d000f74b3b0ada60685a1f91fa7936abedaec4b8db30ffeefc789754.dd8bd9bfd3664b530ea4e645105f557769387b3da9f79bdb55ed556bdd80611d\n",
      "loading file https://huggingface.co/wuesten/sentiment-analysis-fh-kiel/resolve/main/tokenizer_config.json from cache at C:\\Users\\wuest/.cache\\huggingface\\transformers\\e18ceea63867bedad3ddacc27888a09c819e64612b642a2233b3d81478621bd9.313a05cc8b8cbf5a7f820df579068daa43fe433d1ddb2da9bced31b694861d7b\n"
     ]
    }
   ],
   "source": [
    "my_model_from_hub = AutoModelForSequenceClassification.from_pretrained(\n",
    "    \"wuesten/sentiment-analysis-fh-kiel\"\n",
    ")\n",
    "my_tokenizer = AutoTokenizer.from_pretrained(\"wuesten/sentiment-analysis-fh-kiel\")"
   ]
  },
  {
   "cell_type": "markdown",
   "metadata": {},
   "source": [
    "Now we can build a pipeline for prediction again. To do this, we load the model and our tokeniser into the pipeline in order to carry out an evaluation on our test data."
   ]
  },
  {
   "cell_type": "code",
   "execution_count": 82,
   "metadata": {},
   "outputs": [],
   "source": [
    "sentiment_pipeline_2 = pipeline(\"sentiment-analysis\", my_model_from_hub, tokenizer=my_tokenizer)"
   ]
  },
  {
   "cell_type": "markdown",
   "metadata": {},
   "source": [
    "The next steps are again similar to the first experiment. First we create labels that predict the model and then we build the accuracy and the confusion matrix."
   ]
  },
  {
   "cell_type": "code",
   "execution_count": 83,
   "metadata": {},
   "outputs": [],
   "source": [
    "test_df[\"amount_text\"] = test_df[\"text\"].apply(lambda x: sum(word in x for word in x))\n",
    "test_df = test_df[test_df[\"amount_text\"] <= 512]\n",
    "test_df[\"rating\"] = test_df[\"text\"].apply(lambda x: sentiment_pipeline_2(x)[0].get(\"label\"))\n",
    "test_df[\"rating\"] = test_df[\"rating\"].apply(lambda x: int(x[0]))\n",
    "test_df = test_df.astype({\"stars\": int})\n",
    "acc_score = accuracy_score(test_df[\"stars\"] + 1, test_df[\"rating\"])\n",
    "labels = [1, 2, 3, 4, 5]\n",
    "cm = confusion_matrix(test_df[\"stars\"] + 1, test_df[\"rating\"], labels=labels)\n",
    "evaluation_df = evaluation_df.append(\n",
    "    pd.DataFrame(\n",
    "        {\"model\": [\"fine-tuned Transformer\"], \"accuracy\": [acc_score], \"confusion matrix\": [cm]}\n",
    "    )\n",
    ")"
   ]
  },
  {
   "cell_type": "markdown",
   "metadata": {},
   "source": [
    "The result of our fine tuned model achieves a significantly better accuracy of 0.8, which is an increase of 0.18. In addition, we see from the Confusion matrix very often only 1 rating off, which is already very good. Often the model kag wrong at label 4, which was very often label 5. This could be improved by a longer training."
   ]
  },
  {
   "cell_type": "code",
   "execution_count": 84,
   "metadata": {},
   "outputs": [
    {
     "data": {
      "image/png": "[encoded data removed]",
      "text/plain": [
       "<Figure size 1080x504 with 1 Axes>"
      ]
     },
     "metadata": {
      "needs_background": "light"
     },
     "output_type": "display_data"
    }
   ],
   "source": [
    "fig = plt.figure(figsize=(15, 7))\n",
    "labels = [1, 2, 3, 4, 5]\n",
    "ax = fig.add_subplot(111)\n",
    "disp = ConfusionMatrixDisplay(confusion_matrix=evaluation_df.iloc[2, 2], display_labels=labels)\n",
    "disp.plot(ax=ax)\n",
    "disp.ax_.set_title(\n",
    "    f\"Fig. 4 {evaluation_df.iloc[2,0]} with an accuracy of {round(evaluation_df.iloc[2,1],2)} \"\n",
    ")\n",
    "disp.im_.colorbar.remove()\n",
    "plt.subplots_adjust(wspace=0.60, hspace=0.1)\n",
    "# Save figure\n",
    "plt.savefig(\"output/conf_fine_tuned_transformer\", bbox_inches=\"tight\")\n",
    "\n",
    "fig.colorbar(disp.im_, ax=axes)\n",
    "plt.show()"
   ]
  },
  {
   "cell_type": "markdown",
   "metadata": {},
   "source": [
    "### Bag of Words vs TF-ID\n",
    "After we have examined Transformers, I would like to end by evaluating classic sentiment analyses. For this purpose I have chosen Bag of Words and TF-ID.Pre-proccesing is the same for both approaches. First, a corpus is created based on the yelp data and the stop words are deleted. As a next step, punctuation marks and special characters are removed and the words are converted to lowercase. This done thorugh `normalize_document` function."
   ]
  },
  {
   "cell_type": "code",
   "execution_count": 85,
   "metadata": {},
   "outputs": [],
   "source": [
    "# Create corpus\n",
    "corpus = []\n",
    "for i in range(yelp_reviews.shape[0]):\n",
    "    corpus.append(yelp_reviews.iloc[i][2])\n",
    "normalize_corpus = np.vectorize(normalize_document)\n",
    "normalized_corpus = normalize_corpus(corpus)"
   ]
  },
  {
   "cell_type": "markdown",
   "metadata": {},
   "source": [
    "#### Bag of words\n",
    "To create a Bag of Words, we take the Corpus and use the CountVectorizer. To compare the results later we used a training test split. \n"
   ]
  },
  {
   "cell_type": "code",
   "execution_count": 86,
   "metadata": {},
   "outputs": [],
   "source": [
    "vectorizer = CountVectorizer()\n",
    "x = vectorizer.fit_transform(normalized_corpus).toarray()\n",
    "y = yelp_reviews[\"stars\"].values + 1\n",
    "X_train, X_test, y_train, y_test = train_test_split(x, y, test_size=0.2, random_state=1)"
   ]
  },
  {
   "cell_type": "markdown",
   "metadata": {},
   "source": [
    "#### Comparison of classifier for Bag of words\n",
    "\n",
    "Based on the Bag of Words, different classifiers can now be compared with each other. For this purpose, a Gaussian Naive Bayes, linear regression and a random forest algorithm have been selected. The results of this experiments will be presented in the evaluation."
   ]
  },
  {
   "cell_type": "code",
   "execution_count": 87,
   "metadata": {},
   "outputs": [],
   "source": [
    "clf_gauss = GaussianNB()\n",
    "clf_gauss.fit(X_train, y_train)\n",
    "y_pred = clf_gauss.predict(X_test)\n",
    "acc_score = accuracy_score(y_test, y_pred)\n",
    "cm = confusion_matrix(y_test, y_pred, labels=[1, 2, 3, 4, 5])\n",
    "evaluation_df = evaluation_df.append(\n",
    "    pd.DataFrame(\n",
    "        {\"model\": [\"Bag of words: GaussianNB\"], \"accuracy\": [acc_score], \"confusion matrix\": [cm]}\n",
    "    )\n",
    ")"
   ]
  },
  {
   "cell_type": "code",
   "execution_count": 88,
   "metadata": {},
   "outputs": [],
   "source": [
    "reg = LinearRegression()\n",
    "reg.fit(X_train, y_train)\n",
    "y_pred = reg.predict(X_test)\n",
    "acc_score = accuracy_score(y_test, y_pred.round())\n",
    "cm = confusion_matrix(y_test, y_pred.round(), labels=[1, 2, 3, 4, 5])\n",
    "evaluation_df = evaluation_df.append(\n",
    "    pd.DataFrame(\n",
    "        {\"model\": [\"Bag of words: linear Reg.\"], \"accuracy\": [acc_score], \"confusion matrix\": [cm]}\n",
    "    )\n",
    ")"
   ]
  },
  {
   "cell_type": "code",
   "execution_count": 89,
   "metadata": {},
   "outputs": [],
   "source": [
    "clf = RandomForestClassifier(random_state=42)\n",
    "clf.fit(X_train, y_train)\n",
    "y_pred = clf.predict(X_test)\n",
    "acc_score = accuracy_score(y_test, y_pred)\n",
    "cm = confusion_matrix(y_test, y_pred.round(), labels=[1, 2, 3, 4, 5])\n",
    "evaluation_df = evaluation_df.append(\n",
    "    pd.DataFrame(\n",
    "        {\"model\": [\"Bag of words: RandomForest\"], \"accuracy\": [acc_score], \"confusion matrix\": [cm]}\n",
    "    )\n",
    ")"
   ]
  },
  {
   "cell_type": "markdown",
   "metadata": {},
   "source": [
    "#### TF-ID\n",
    "\n",
    "To create a TF-ID, we take the Corpus and use the TfidfVectorizer. To compare the results later we used a training test split."
   ]
  },
  {
   "cell_type": "code",
   "execution_count": 90,
   "metadata": {},
   "outputs": [],
   "source": [
    "vectorizer = TfidfVectorizer()\n",
    "x = vectorizer.fit_transform(normalized_corpus).toarray()\n",
    "y = yelp_reviews[\"stars\"].values + 1\n",
    "X_train, X_test, y_train, y_test = train_test_split(x, y, test_size=0.2, random_state=1)"
   ]
  },
  {
   "cell_type": "markdown",
   "metadata": {},
   "source": [
    "#### Comparison of classifier TF-ID\n",
    "\n",
    "Based on the TF-ID, different classifiers can now be compared with each other. For this purpose, a Gaussian Naive Bayes, linear regression and a random forest algorithm have been selected. The results of this experiments will be presented in the evaluation."
   ]
  },
  {
   "cell_type": "code",
   "execution_count": 91,
   "metadata": {},
   "outputs": [],
   "source": [
    "clf_gauss = GaussianNB()\n",
    "clf_gauss.fit(X_train, y_train)\n",
    "y_pred = clf_gauss.predict(X_test)\n",
    "acc_score = accuracy_score(y_test, y_pred)\n",
    "cm = confusion_matrix(y_test, y_pred, labels=[1, 2, 3, 4, 5])\n",
    "evaluation_df = evaluation_df.append(\n",
    "    pd.DataFrame(\n",
    "        {\"model\": [\"TF-ID: GaussianNB\"], \"accuracy\": [acc_score], \"confusion matrix\": [cm]}\n",
    "    )\n",
    ")"
   ]
  },
  {
   "cell_type": "code",
   "execution_count": 92,
   "metadata": {},
   "outputs": [],
   "source": [
    "reg = LinearRegression()\n",
    "reg.fit(X_train, y_train)\n",
    "y_pred = reg.predict(X_test)\n",
    "acc_score = accuracy_score(y_test, y_pred.round())\n",
    "cm = confusion_matrix(y_test, y_pred.round(), labels=[1, 2, 3, 4, 5])\n",
    "evaluation_df = evaluation_df.append(\n",
    "    pd.DataFrame(\n",
    "        {\"model\": [\"TF-ID: linear Reg.\"], \"accuracy\": [acc_score], \"confusion matrix\": [cm]}\n",
    "    )\n",
    ")"
   ]
  },
  {
   "cell_type": "code",
   "execution_count": 93,
   "metadata": {},
   "outputs": [],
   "source": [
    "clf = RandomForestClassifier(random_state=42)\n",
    "clf.fit(X_train, y_train)\n",
    "y_pred = clf.predict(X_test)\n",
    "acc_score = accuracy_score(y_test, y_pred)\n",
    "cm = confusion_matrix(y_test, y_pred, labels=[1, 2, 3, 4, 5])\n",
    "evaluation_df = evaluation_df.append(\n",
    "    pd.DataFrame(\n",
    "        {\"model\": [\"TF-ID: RandomForest\"], \"accuracy\": [acc_score], \"confusion matrix\": [cm]}\n",
    "    )\n",
    ")"
   ]
  },
  {
   "cell_type": "markdown",
   "metadata": {},
   "source": [
    "### Evaluation\n",
    "\n",
    "In this sentiment analysis, different approaches from Transformer to Bag of Words and TF-ID have been shown. It is not surprising that the transformers that have been trained on very large data sets perform better. Furthermore, a fine tuning of one transformer resulted in a significant increase from 63% to 80% acccuracy. It can be assumed that an improvement through longer fine tuning would show even better results. But due to limited hardware, I could only do 3 epochs, which took 6 hours. <br>\n",
    "The TF-ID and Bag of Words approaches produced similar results for the same classifiers. The exception is linear regression, because it performed much better with TF-ID. The best results were achieved with the random forest classifier. With TF-ID 51.2% and with Bag of words 52.6% accuracy was achieved.\n"
   ]
  },
  {
   "cell_type": "code",
   "execution_count": 94,
   "metadata": {},
   "outputs": [
    {
     "data": {
      "text/html": [
       "<div>\n",
       "<style scoped>\n",
       "    .dataframe tbody tr th:only-of-type {\n",
       "        vertical-align: middle;\n",
       "    }\n",
       "\n",
       "    .dataframe tbody tr th {\n",
       "        vertical-align: top;\n",
       "    }\n",
       "\n",
       "    .dataframe thead th {\n",
       "        text-align: right;\n",
       "    }\n",
       "</style>\n",
       "<table border=\"1\" class=\"dataframe\">\n",
       "  <thead>\n",
       "    <tr style=\"text-align: right;\">\n",
       "      <th></th>\n",
       "      <th>model</th>\n",
       "      <th>accuracy</th>\n",
       "      <th>confusion matrix</th>\n",
       "    </tr>\n",
       "  </thead>\n",
       "  <tbody>\n",
       "    <tr>\n",
       "      <th>0</th>\n",
       "      <td>Transformer</td>\n",
       "      <td>0.630378</td>\n",
       "      <td>[[54, 27, 6, 0, 1], [11, 45, 24, 8, 1], [1, 22...</td>\n",
       "    </tr>\n",
       "    <tr>\n",
       "      <th>0</th>\n",
       "      <td>Transformer EN</td>\n",
       "      <td>0.623725</td>\n",
       "      <td>[[53, 26, 5, 0, 1], [11, 42, 24, 8, 1], [1, 22...</td>\n",
       "    </tr>\n",
       "    <tr>\n",
       "      <th>0</th>\n",
       "      <td>fine-tuned Transformer</td>\n",
       "      <td>0.781095</td>\n",
       "      <td>[[24, 0, 0, 0, 0], [5, 4, 2, 0, 0], [1, 2, 30,...</td>\n",
       "    </tr>\n",
       "    <tr>\n",
       "      <th>0</th>\n",
       "      <td>Bag of words: GaussianNB</td>\n",
       "      <td>0.365289</td>\n",
       "      <td>[[2, 5, 5, 10, 12], [0, 0, 6, 10, 6], [3, 6, 1...</td>\n",
       "    </tr>\n",
       "    <tr>\n",
       "      <th>0</th>\n",
       "      <td>Bag of words: linear Reg.</td>\n",
       "      <td>0.320661</td>\n",
       "      <td>[[4, 9, 7, 9, 2], [3, 4, 8, 2, 0], [5, 13, 18,...</td>\n",
       "    </tr>\n",
       "    <tr>\n",
       "      <th>0</th>\n",
       "      <td>Bag of words: RandomForest</td>\n",
       "      <td>0.525620</td>\n",
       "      <td>[[5, 0, 2, 8, 19], [1, 0, 0, 14, 7], [1, 0, 3,...</td>\n",
       "    </tr>\n",
       "    <tr>\n",
       "      <th>0</th>\n",
       "      <td>TF-ID: GaussianNB</td>\n",
       "      <td>0.370248</td>\n",
       "      <td>[[1, 5, 4, 9, 15], [0, 0, 6, 9, 7], [3, 6, 12,...</td>\n",
       "    </tr>\n",
       "    <tr>\n",
       "      <th>0</th>\n",
       "      <td>TF-ID: linear Reg.</td>\n",
       "      <td>0.438017</td>\n",
       "      <td>[[4, 7, 15, 7, 1], [3, 6, 10, 3, 0], [2, 7, 29...</td>\n",
       "    </tr>\n",
       "    <tr>\n",
       "      <th>0</th>\n",
       "      <td>TF-ID: RandomForest</td>\n",
       "      <td>0.519008</td>\n",
       "      <td>[[1, 0, 0, 5, 28], [1, 0, 2, 11, 8], [0, 0, 2,...</td>\n",
       "    </tr>\n",
       "  </tbody>\n",
       "</table>\n",
       "</div>"
      ],
      "text/plain": [
       "                        model  accuracy  \\\n",
       "0                 Transformer  0.630378   \n",
       "0              Transformer EN  0.623725   \n",
       "0      fine-tuned Transformer  0.781095   \n",
       "0    Bag of words: GaussianNB  0.365289   \n",
       "0   Bag of words: linear Reg.  0.320661   \n",
       "0  Bag of words: RandomForest  0.525620   \n",
       "0           TF-ID: GaussianNB  0.370248   \n",
       "0          TF-ID: linear Reg.  0.438017   \n",
       "0         TF-ID: RandomForest  0.519008   \n",
       "\n",
       "                                    confusion matrix  \n",
       "0  [[54, 27, 6, 0, 1], [11, 45, 24, 8, 1], [1, 22...  \n",
       "0  [[53, 26, 5, 0, 1], [11, 42, 24, 8, 1], [1, 22...  \n",
       "0  [[24, 0, 0, 0, 0], [5, 4, 2, 0, 0], [1, 2, 30,...  \n",
       "0  [[2, 5, 5, 10, 12], [0, 0, 6, 10, 6], [3, 6, 1...  \n",
       "0  [[4, 9, 7, 9, 2], [3, 4, 8, 2, 0], [5, 13, 18,...  \n",
       "0  [[5, 0, 2, 8, 19], [1, 0, 0, 14, 7], [1, 0, 3,...  \n",
       "0  [[1, 5, 4, 9, 15], [0, 0, 6, 9, 7], [3, 6, 12,...  \n",
       "0  [[4, 7, 15, 7, 1], [3, 6, 10, 3, 0], [2, 7, 29...  \n",
       "0  [[1, 0, 0, 5, 28], [1, 0, 2, 11, 8], [0, 0, 2,...  "
      ]
     },
     "execution_count": 94,
     "metadata": {},
     "output_type": "execute_result"
    }
   ],
   "source": [
    "evaluation_df"
   ]
  },
  {
   "cell_type": "markdown",
   "metadata": {},
   "source": [
    "Finally, all experiments are presented in a Confusion Matrix. In general the size of the test data is always the same with one exception for the pre-trained transformers, as they were already trained.  With the transformers, it can be seen that the deviation is often only 1 to the correct value. This is already a very good result. With the fine tuned transformer, the deviation in the lower ratings is very small. Most deviations can be seen in the rating of 4.  <br>\n",
    "The experiments of Bag of Words have performed very badly on labels with a poor rating. This could be because there are few poorly rated labels. The Random Forest from the accurary performed best, but this is only due to the fact that it almost always had a prediction of 5. <br>\n",
    "TF-ID's experiments performed very similarly to Bag of Words. In general, it can be seen that low scores are not well recognised. Classifiers that predict high ratings across the board could achieve higher accuracy because the dataset contains more good ratings."
   ]
  },
  {
   "cell_type": "code",
   "execution_count": 115,
   "metadata": {},
   "outputs": [
    {
     "data": {
      "image/png": "[encoded data removed]",
      "text/plain": [
       "<Figure size 1440x504 with 10 Axes>"
      ]
     },
     "metadata": {
      "needs_background": "light"
     },
     "output_type": "display_data"
    }
   ],
   "source": [
    "fig, axes = plt.subplots(3, 3, figsize=(20, 7), sharey=\"row\")\n",
    "axes = axes.flatten()\n",
    "plt.subplots_adjust(left=None, bottom=-0.7, right=1, top=1.5, wspace=0.1, hspace=None)\n",
    "fig.suptitle(\n",
    "    \"Fig. 5 Confusionmatrix of Transformer and Transformer EN(only english data)\",\n",
    "    horizontalalignment=\"left\",\n",
    "    x=0.25,\n",
    "    y=1.6,\n",
    "    fontsize=18,\n",
    ")\n",
    "labels = [1, 2, 3, 4, 5]\n",
    "for i in range(9):\n",
    "    disp = ConfusionMatrixDisplay(confusion_matrix=evaluation_df.iloc[i, 2], display_labels=labels)\n",
    "    disp.plot(ax=axes[i])\n",
    "    disp.ax_.set_title(\n",
    "        f\"{evaluation_df.iloc[i,0]} with an accuracy of {round(evaluation_df.iloc[i,1],2)} \"\n",
    "    )\n",
    "    disp.im_.colorbar.remove()\n",
    "    disp.ax_.set_xlabel(\"Predicted label\")\n",
    "    # disp.ax_.set_ylabel('True label')\n",
    "\n",
    "# f.text(0.4, 0.1, 'Predicted label', ha='left')\n",
    "# plt.subplots_adjust(wspace=0.40, hspace=0.1)\n",
    "# Save figure\n",
    "plt.savefig(\"output/conf_overview\", bbox_inches=\"tight\")\n",
    "\n",
    "fig.colorbar(disp.im_, ax=axes)\n",
    "plt.show()"
   ]
  },
  {
   "cell_type": "markdown",
   "metadata": {},
   "source": [
    "### Outlook\n",
    "\n",
    "Based on the sentiment analysis, it could be shown that a text classification is well possible. It was found that classifiers often scored very high on Bag of Words and TF-ID. This is due to the fact that the data set is not balanced and for the most part there are good ratings. This could be improved by adjusting the data set or by using methods such as SMOTE to oversample the data set. This would make the model better at predicting low ratings. <br>\n",
    "The fine tuned Transformer finished best. This could still be improved by longer training. This could be achieved by training the model in a cloud, because the hardware of laptops is very limited compared to the resources needed to train huge neural networks.\n"
   ]
  }
 ],
 "metadata": {
  "interpreter": {
   "hash": "85b43e6fe322e5795beb9b6abb83414382895a6b146bda7868a06b258858b979"
  },
  "kernelspec": {
   "display_name": "Python 3.9.0 ('.venv': poetry)",
   "language": "python",
   "name": "python3"
  },
  "language_info": {
   "codemirror_mode": {
    "name": "ipython",
    "version": 3
   },
   "file_extension": ".py",
   "mimetype": "text/x-python",
   "name": "python",
   "nbconvert_exporter": "python",
   "pygments_lexer": "ipython3",
   "version": "3.9.0"
  },
  "orig_nbformat": 4
 },
 "nbformat": 4,
 "nbformat_minor": 2
}
